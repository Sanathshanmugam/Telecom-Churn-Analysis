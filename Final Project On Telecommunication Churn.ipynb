{
 "cells": [
  {
   "cell_type": "markdown",
   "id": "69c27457",
   "metadata": {},
   "source": [
    "# Objective"
   ]
  },
  {
   "cell_type": "markdown",
   "id": "c28712e6",
   "metadata": {},
   "source": [
    "Customer churn is a big problem for telecommunications companies. Indeed, their annual churn rates are usually higher than 10%. For that reason, they develop strategies to keep as many clients as possible. This is a classification project since the variable to be predicted is binary (churn or loyal customer). The goal here is to model churn probability, conditioned on the customer features."
   ]
  },
  {
   "cell_type": "markdown",
   "id": "d7a1ecfb",
   "metadata": {},
   "source": [
    "# Dataset details"
   ]
  },
  {
   "cell_type": "raw",
   "id": "ab11b6bc",
   "metadata": {},
   "source": [
    "Data Set Details: The data file telecommunications_churn.csv contains a total of 19 features for 3333 customers. Each row corresponds to a client of a telecommunications company for whom it has been collected information about the type of plan they have contracted, the minutes they have talked, or the charge they pay every month.\n",
    "The data set includes the following variables:\n",
    "• account_length\n",
    "• voice_mail_plan\n",
    "• voice_mail_messages\n",
    "• day_mins\n",
    "• evening_mins\n",
    "• night_mins\n",
    "• international_mins\n",
    "• customer_service_calls\n",
    "• international_plan\n",
    "• day_calls\n",
    "• day_charge\n",
    "• evening_calls\n",
    "• evening_charge\n",
    "• night_calls\n",
    "• night_charge\n",
    "• international_calls\n",
    "• international_charge\n",
    "• total_charge\n",
    "\n",
    "churn: This is the target variable. It is the one that determines whether the client is still in the company or not. (1-Churn, 0-No Churn)\n"
   ]
  },
  {
   "cell_type": "markdown",
   "id": "c58a8e46",
   "metadata": {},
   "source": [
    "# Import libraries"
   ]
  },
  {
   "cell_type": "code",
   "execution_count": 2,
   "id": "cf6289b0",
   "metadata": {},
   "outputs": [],
   "source": [
    "import pandas as pd\n",
    "import numpy as np\n",
    "import matplotlib.pyplot as plt\n",
    "import matplotlib.ticker as mtick # For specifying the axes tick format \n",
    "import seaborn as sns"
   ]
  },
  {
   "cell_type": "code",
   "execution_count": 3,
   "id": "c7c3a2e9",
   "metadata": {},
   "outputs": [],
   "source": [
    "# Ignore warnings\n",
    "import warnings\n",
    "warnings.filterwarnings(\"ignore\")"
   ]
  },
  {
   "cell_type": "markdown",
   "id": "49318e7b",
   "metadata": {},
   "source": [
    "# Importing dataset"
   ]
  },
  {
   "cell_type": "code",
   "execution_count": 4,
   "id": "47febe31",
   "metadata": {},
   "outputs": [
    {
     "data": {
      "text/html": [
       "<div>\n",
       "<style scoped>\n",
       "    .dataframe tbody tr th:only-of-type {\n",
       "        vertical-align: middle;\n",
       "    }\n",
       "\n",
       "    .dataframe tbody tr th {\n",
       "        vertical-align: top;\n",
       "    }\n",
       "\n",
       "    .dataframe thead th {\n",
       "        text-align: right;\n",
       "    }\n",
       "</style>\n",
       "<table border=\"1\" class=\"dataframe\">\n",
       "  <thead>\n",
       "    <tr style=\"text-align: right;\">\n",
       "      <th></th>\n",
       "      <th>account_length</th>\n",
       "      <th>voice_mail_plan</th>\n",
       "      <th>voice_mail_messages</th>\n",
       "      <th>day_mins</th>\n",
       "      <th>evening_mins</th>\n",
       "      <th>night_mins</th>\n",
       "      <th>international_mins</th>\n",
       "      <th>customer_service_calls</th>\n",
       "      <th>international_plan</th>\n",
       "      <th>day_calls</th>\n",
       "      <th>day_charge</th>\n",
       "      <th>evening_calls</th>\n",
       "      <th>evening_charge</th>\n",
       "      <th>night_calls</th>\n",
       "      <th>night_charge</th>\n",
       "      <th>international_calls</th>\n",
       "      <th>international_charge</th>\n",
       "      <th>total_charge</th>\n",
       "      <th>churn</th>\n",
       "    </tr>\n",
       "  </thead>\n",
       "  <tbody>\n",
       "    <tr>\n",
       "      <th>0</th>\n",
       "      <td>128</td>\n",
       "      <td>1</td>\n",
       "      <td>25</td>\n",
       "      <td>265.1</td>\n",
       "      <td>197.4</td>\n",
       "      <td>244.7</td>\n",
       "      <td>10.0</td>\n",
       "      <td>1</td>\n",
       "      <td>0</td>\n",
       "      <td>110</td>\n",
       "      <td>45.07</td>\n",
       "      <td>99</td>\n",
       "      <td>16.78</td>\n",
       "      <td>91</td>\n",
       "      <td>11.01</td>\n",
       "      <td>3</td>\n",
       "      <td>2.70</td>\n",
       "      <td>75.56</td>\n",
       "      <td>0</td>\n",
       "    </tr>\n",
       "    <tr>\n",
       "      <th>1</th>\n",
       "      <td>107</td>\n",
       "      <td>1</td>\n",
       "      <td>26</td>\n",
       "      <td>161.6</td>\n",
       "      <td>195.5</td>\n",
       "      <td>254.4</td>\n",
       "      <td>13.7</td>\n",
       "      <td>1</td>\n",
       "      <td>0</td>\n",
       "      <td>123</td>\n",
       "      <td>27.47</td>\n",
       "      <td>103</td>\n",
       "      <td>16.62</td>\n",
       "      <td>103</td>\n",
       "      <td>11.45</td>\n",
       "      <td>3</td>\n",
       "      <td>3.70</td>\n",
       "      <td>59.24</td>\n",
       "      <td>0</td>\n",
       "    </tr>\n",
       "    <tr>\n",
       "      <th>2</th>\n",
       "      <td>137</td>\n",
       "      <td>0</td>\n",
       "      <td>0</td>\n",
       "      <td>243.4</td>\n",
       "      <td>121.2</td>\n",
       "      <td>162.6</td>\n",
       "      <td>12.2</td>\n",
       "      <td>0</td>\n",
       "      <td>0</td>\n",
       "      <td>114</td>\n",
       "      <td>41.38</td>\n",
       "      <td>110</td>\n",
       "      <td>10.30</td>\n",
       "      <td>104</td>\n",
       "      <td>7.32</td>\n",
       "      <td>5</td>\n",
       "      <td>3.29</td>\n",
       "      <td>62.29</td>\n",
       "      <td>0</td>\n",
       "    </tr>\n",
       "    <tr>\n",
       "      <th>3</th>\n",
       "      <td>84</td>\n",
       "      <td>0</td>\n",
       "      <td>0</td>\n",
       "      <td>299.4</td>\n",
       "      <td>61.9</td>\n",
       "      <td>196.9</td>\n",
       "      <td>6.6</td>\n",
       "      <td>2</td>\n",
       "      <td>1</td>\n",
       "      <td>71</td>\n",
       "      <td>50.90</td>\n",
       "      <td>88</td>\n",
       "      <td>5.26</td>\n",
       "      <td>89</td>\n",
       "      <td>8.86</td>\n",
       "      <td>7</td>\n",
       "      <td>1.78</td>\n",
       "      <td>66.80</td>\n",
       "      <td>0</td>\n",
       "    </tr>\n",
       "    <tr>\n",
       "      <th>4</th>\n",
       "      <td>75</td>\n",
       "      <td>0</td>\n",
       "      <td>0</td>\n",
       "      <td>166.7</td>\n",
       "      <td>148.3</td>\n",
       "      <td>186.9</td>\n",
       "      <td>10.1</td>\n",
       "      <td>3</td>\n",
       "      <td>1</td>\n",
       "      <td>113</td>\n",
       "      <td>28.34</td>\n",
       "      <td>122</td>\n",
       "      <td>12.61</td>\n",
       "      <td>121</td>\n",
       "      <td>8.41</td>\n",
       "      <td>3</td>\n",
       "      <td>2.73</td>\n",
       "      <td>52.09</td>\n",
       "      <td>0</td>\n",
       "    </tr>\n",
       "    <tr>\n",
       "      <th>...</th>\n",
       "      <td>...</td>\n",
       "      <td>...</td>\n",
       "      <td>...</td>\n",
       "      <td>...</td>\n",
       "      <td>...</td>\n",
       "      <td>...</td>\n",
       "      <td>...</td>\n",
       "      <td>...</td>\n",
       "      <td>...</td>\n",
       "      <td>...</td>\n",
       "      <td>...</td>\n",
       "      <td>...</td>\n",
       "      <td>...</td>\n",
       "      <td>...</td>\n",
       "      <td>...</td>\n",
       "      <td>...</td>\n",
       "      <td>...</td>\n",
       "      <td>...</td>\n",
       "      <td>...</td>\n",
       "    </tr>\n",
       "    <tr>\n",
       "      <th>3328</th>\n",
       "      <td>192</td>\n",
       "      <td>1</td>\n",
       "      <td>36</td>\n",
       "      <td>156.2</td>\n",
       "      <td>215.5</td>\n",
       "      <td>279.1</td>\n",
       "      <td>9.9</td>\n",
       "      <td>2</td>\n",
       "      <td>0</td>\n",
       "      <td>77</td>\n",
       "      <td>26.55</td>\n",
       "      <td>126</td>\n",
       "      <td>18.32</td>\n",
       "      <td>83</td>\n",
       "      <td>12.56</td>\n",
       "      <td>6</td>\n",
       "      <td>2.67</td>\n",
       "      <td>60.10</td>\n",
       "      <td>0</td>\n",
       "    </tr>\n",
       "    <tr>\n",
       "      <th>3329</th>\n",
       "      <td>68</td>\n",
       "      <td>0</td>\n",
       "      <td>0</td>\n",
       "      <td>231.1</td>\n",
       "      <td>153.4</td>\n",
       "      <td>191.3</td>\n",
       "      <td>9.6</td>\n",
       "      <td>3</td>\n",
       "      <td>0</td>\n",
       "      <td>57</td>\n",
       "      <td>39.29</td>\n",
       "      <td>55</td>\n",
       "      <td>13.04</td>\n",
       "      <td>123</td>\n",
       "      <td>8.61</td>\n",
       "      <td>4</td>\n",
       "      <td>2.59</td>\n",
       "      <td>63.53</td>\n",
       "      <td>0</td>\n",
       "    </tr>\n",
       "    <tr>\n",
       "      <th>3330</th>\n",
       "      <td>28</td>\n",
       "      <td>0</td>\n",
       "      <td>0</td>\n",
       "      <td>180.8</td>\n",
       "      <td>288.8</td>\n",
       "      <td>191.9</td>\n",
       "      <td>14.1</td>\n",
       "      <td>2</td>\n",
       "      <td>0</td>\n",
       "      <td>109</td>\n",
       "      <td>30.74</td>\n",
       "      <td>58</td>\n",
       "      <td>24.55</td>\n",
       "      <td>91</td>\n",
       "      <td>8.64</td>\n",
       "      <td>6</td>\n",
       "      <td>3.81</td>\n",
       "      <td>67.74</td>\n",
       "      <td>0</td>\n",
       "    </tr>\n",
       "    <tr>\n",
       "      <th>3331</th>\n",
       "      <td>184</td>\n",
       "      <td>0</td>\n",
       "      <td>0</td>\n",
       "      <td>213.8</td>\n",
       "      <td>159.6</td>\n",
       "      <td>139.2</td>\n",
       "      <td>5.0</td>\n",
       "      <td>2</td>\n",
       "      <td>1</td>\n",
       "      <td>105</td>\n",
       "      <td>36.35</td>\n",
       "      <td>84</td>\n",
       "      <td>13.57</td>\n",
       "      <td>137</td>\n",
       "      <td>6.26</td>\n",
       "      <td>10</td>\n",
       "      <td>1.35</td>\n",
       "      <td>57.53</td>\n",
       "      <td>0</td>\n",
       "    </tr>\n",
       "    <tr>\n",
       "      <th>3332</th>\n",
       "      <td>74</td>\n",
       "      <td>1</td>\n",
       "      <td>25</td>\n",
       "      <td>234.4</td>\n",
       "      <td>265.9</td>\n",
       "      <td>241.4</td>\n",
       "      <td>13.7</td>\n",
       "      <td>0</td>\n",
       "      <td>0</td>\n",
       "      <td>113</td>\n",
       "      <td>39.85</td>\n",
       "      <td>82</td>\n",
       "      <td>22.60</td>\n",
       "      <td>77</td>\n",
       "      <td>10.86</td>\n",
       "      <td>4</td>\n",
       "      <td>3.70</td>\n",
       "      <td>77.01</td>\n",
       "      <td>0</td>\n",
       "    </tr>\n",
       "  </tbody>\n",
       "</table>\n",
       "<p>3333 rows × 19 columns</p>\n",
       "</div>"
      ],
      "text/plain": [
       "      account_length  voice_mail_plan  voice_mail_messages  day_mins  \\\n",
       "0                128                1                   25     265.1   \n",
       "1                107                1                   26     161.6   \n",
       "2                137                0                    0     243.4   \n",
       "3                 84                0                    0     299.4   \n",
       "4                 75                0                    0     166.7   \n",
       "...              ...              ...                  ...       ...   \n",
       "3328             192                1                   36     156.2   \n",
       "3329              68                0                    0     231.1   \n",
       "3330              28                0                    0     180.8   \n",
       "3331             184                0                    0     213.8   \n",
       "3332              74                1                   25     234.4   \n",
       "\n",
       "      evening_mins  night_mins  international_mins  customer_service_calls  \\\n",
       "0            197.4       244.7                10.0                       1   \n",
       "1            195.5       254.4                13.7                       1   \n",
       "2            121.2       162.6                12.2                       0   \n",
       "3             61.9       196.9                 6.6                       2   \n",
       "4            148.3       186.9                10.1                       3   \n",
       "...            ...         ...                 ...                     ...   \n",
       "3328         215.5       279.1                 9.9                       2   \n",
       "3329         153.4       191.3                 9.6                       3   \n",
       "3330         288.8       191.9                14.1                       2   \n",
       "3331         159.6       139.2                 5.0                       2   \n",
       "3332         265.9       241.4                13.7                       0   \n",
       "\n",
       "      international_plan  day_calls  day_charge  evening_calls  \\\n",
       "0                      0        110       45.07             99   \n",
       "1                      0        123       27.47            103   \n",
       "2                      0        114       41.38            110   \n",
       "3                      1         71       50.90             88   \n",
       "4                      1        113       28.34            122   \n",
       "...                  ...        ...         ...            ...   \n",
       "3328                   0         77       26.55            126   \n",
       "3329                   0         57       39.29             55   \n",
       "3330                   0        109       30.74             58   \n",
       "3331                   1        105       36.35             84   \n",
       "3332                   0        113       39.85             82   \n",
       "\n",
       "      evening_charge  night_calls  night_charge  international_calls  \\\n",
       "0              16.78           91         11.01                    3   \n",
       "1              16.62          103         11.45                    3   \n",
       "2              10.30          104          7.32                    5   \n",
       "3               5.26           89          8.86                    7   \n",
       "4              12.61          121          8.41                    3   \n",
       "...              ...          ...           ...                  ...   \n",
       "3328           18.32           83         12.56                    6   \n",
       "3329           13.04          123          8.61                    4   \n",
       "3330           24.55           91          8.64                    6   \n",
       "3331           13.57          137          6.26                   10   \n",
       "3332           22.60           77         10.86                    4   \n",
       "\n",
       "      international_charge  total_charge  churn  \n",
       "0                     2.70         75.56      0  \n",
       "1                     3.70         59.24      0  \n",
       "2                     3.29         62.29      0  \n",
       "3                     1.78         66.80      0  \n",
       "4                     2.73         52.09      0  \n",
       "...                    ...           ...    ...  \n",
       "3328                  2.67         60.10      0  \n",
       "3329                  2.59         63.53      0  \n",
       "3330                  3.81         67.74      0  \n",
       "3331                  1.35         57.53      0  \n",
       "3332                  3.70         77.01      0  \n",
       "\n",
       "[3333 rows x 19 columns]"
      ]
     },
     "execution_count": 4,
     "metadata": {},
     "output_type": "execute_result"
    }
   ],
   "source": [
    "df = pd.read_csv(\"telecommunications_churn.csv\")\n",
    "df"
   ]
  },
  {
   "cell_type": "markdown",
   "id": "a0ea88ea",
   "metadata": {},
   "source": [
    "# Exploratory Data Analysis (EDA) & Cleaning"
   ]
  },
  {
   "cell_type": "code",
   "execution_count": 5,
   "id": "3acad480",
   "metadata": {},
   "outputs": [
    {
     "data": {
      "text/plain": [
       "(3333, 19)"
      ]
     },
     "execution_count": 5,
     "metadata": {},
     "output_type": "execute_result"
    }
   ],
   "source": [
    "#Checking size of the dataset\n",
    "df.shape"
   ]
  },
  {
   "cell_type": "code",
   "execution_count": 6,
   "id": "ccd8a6a1",
   "metadata": {},
   "outputs": [
    {
     "data": {
      "text/html": [
       "<div>\n",
       "<style scoped>\n",
       "    .dataframe tbody tr th:only-of-type {\n",
       "        vertical-align: middle;\n",
       "    }\n",
       "\n",
       "    .dataframe tbody tr th {\n",
       "        vertical-align: top;\n",
       "    }\n",
       "\n",
       "    .dataframe thead th {\n",
       "        text-align: right;\n",
       "    }\n",
       "</style>\n",
       "<table border=\"1\" class=\"dataframe\">\n",
       "  <thead>\n",
       "    <tr style=\"text-align: right;\">\n",
       "      <th></th>\n",
       "      <th>account_length</th>\n",
       "      <th>voice_mail_plan</th>\n",
       "      <th>voice_mail_messages</th>\n",
       "      <th>day_mins</th>\n",
       "      <th>evening_mins</th>\n",
       "      <th>night_mins</th>\n",
       "      <th>international_mins</th>\n",
       "      <th>customer_service_calls</th>\n",
       "      <th>international_plan</th>\n",
       "      <th>day_calls</th>\n",
       "      <th>day_charge</th>\n",
       "      <th>evening_calls</th>\n",
       "      <th>evening_charge</th>\n",
       "      <th>night_calls</th>\n",
       "      <th>night_charge</th>\n",
       "      <th>international_calls</th>\n",
       "      <th>international_charge</th>\n",
       "      <th>total_charge</th>\n",
       "      <th>churn</th>\n",
       "    </tr>\n",
       "  </thead>\n",
       "  <tbody>\n",
       "    <tr>\n",
       "      <th>0</th>\n",
       "      <td>128</td>\n",
       "      <td>1</td>\n",
       "      <td>25</td>\n",
       "      <td>265.1</td>\n",
       "      <td>197.4</td>\n",
       "      <td>244.7</td>\n",
       "      <td>10.0</td>\n",
       "      <td>1</td>\n",
       "      <td>0</td>\n",
       "      <td>110</td>\n",
       "      <td>45.07</td>\n",
       "      <td>99</td>\n",
       "      <td>16.78</td>\n",
       "      <td>91</td>\n",
       "      <td>11.01</td>\n",
       "      <td>3</td>\n",
       "      <td>2.70</td>\n",
       "      <td>75.56</td>\n",
       "      <td>0</td>\n",
       "    </tr>\n",
       "    <tr>\n",
       "      <th>1</th>\n",
       "      <td>107</td>\n",
       "      <td>1</td>\n",
       "      <td>26</td>\n",
       "      <td>161.6</td>\n",
       "      <td>195.5</td>\n",
       "      <td>254.4</td>\n",
       "      <td>13.7</td>\n",
       "      <td>1</td>\n",
       "      <td>0</td>\n",
       "      <td>123</td>\n",
       "      <td>27.47</td>\n",
       "      <td>103</td>\n",
       "      <td>16.62</td>\n",
       "      <td>103</td>\n",
       "      <td>11.45</td>\n",
       "      <td>3</td>\n",
       "      <td>3.70</td>\n",
       "      <td>59.24</td>\n",
       "      <td>0</td>\n",
       "    </tr>\n",
       "    <tr>\n",
       "      <th>2</th>\n",
       "      <td>137</td>\n",
       "      <td>0</td>\n",
       "      <td>0</td>\n",
       "      <td>243.4</td>\n",
       "      <td>121.2</td>\n",
       "      <td>162.6</td>\n",
       "      <td>12.2</td>\n",
       "      <td>0</td>\n",
       "      <td>0</td>\n",
       "      <td>114</td>\n",
       "      <td>41.38</td>\n",
       "      <td>110</td>\n",
       "      <td>10.30</td>\n",
       "      <td>104</td>\n",
       "      <td>7.32</td>\n",
       "      <td>5</td>\n",
       "      <td>3.29</td>\n",
       "      <td>62.29</td>\n",
       "      <td>0</td>\n",
       "    </tr>\n",
       "    <tr>\n",
       "      <th>3</th>\n",
       "      <td>84</td>\n",
       "      <td>0</td>\n",
       "      <td>0</td>\n",
       "      <td>299.4</td>\n",
       "      <td>61.9</td>\n",
       "      <td>196.9</td>\n",
       "      <td>6.6</td>\n",
       "      <td>2</td>\n",
       "      <td>1</td>\n",
       "      <td>71</td>\n",
       "      <td>50.90</td>\n",
       "      <td>88</td>\n",
       "      <td>5.26</td>\n",
       "      <td>89</td>\n",
       "      <td>8.86</td>\n",
       "      <td>7</td>\n",
       "      <td>1.78</td>\n",
       "      <td>66.80</td>\n",
       "      <td>0</td>\n",
       "    </tr>\n",
       "    <tr>\n",
       "      <th>4</th>\n",
       "      <td>75</td>\n",
       "      <td>0</td>\n",
       "      <td>0</td>\n",
       "      <td>166.7</td>\n",
       "      <td>148.3</td>\n",
       "      <td>186.9</td>\n",
       "      <td>10.1</td>\n",
       "      <td>3</td>\n",
       "      <td>1</td>\n",
       "      <td>113</td>\n",
       "      <td>28.34</td>\n",
       "      <td>122</td>\n",
       "      <td>12.61</td>\n",
       "      <td>121</td>\n",
       "      <td>8.41</td>\n",
       "      <td>3</td>\n",
       "      <td>2.73</td>\n",
       "      <td>52.09</td>\n",
       "      <td>0</td>\n",
       "    </tr>\n",
       "  </tbody>\n",
       "</table>\n",
       "</div>"
      ],
      "text/plain": [
       "   account_length  voice_mail_plan  voice_mail_messages  day_mins  \\\n",
       "0             128                1                   25     265.1   \n",
       "1             107                1                   26     161.6   \n",
       "2             137                0                    0     243.4   \n",
       "3              84                0                    0     299.4   \n",
       "4              75                0                    0     166.7   \n",
       "\n",
       "   evening_mins  night_mins  international_mins  customer_service_calls  \\\n",
       "0         197.4       244.7                10.0                       1   \n",
       "1         195.5       254.4                13.7                       1   \n",
       "2         121.2       162.6                12.2                       0   \n",
       "3          61.9       196.9                 6.6                       2   \n",
       "4         148.3       186.9                10.1                       3   \n",
       "\n",
       "   international_plan  day_calls  day_charge  evening_calls  evening_charge  \\\n",
       "0                   0        110       45.07             99           16.78   \n",
       "1                   0        123       27.47            103           16.62   \n",
       "2                   0        114       41.38            110           10.30   \n",
       "3                   1         71       50.90             88            5.26   \n",
       "4                   1        113       28.34            122           12.61   \n",
       "\n",
       "   night_calls  night_charge  international_calls  international_charge  \\\n",
       "0           91         11.01                    3                  2.70   \n",
       "1          103         11.45                    3                  3.70   \n",
       "2          104          7.32                    5                  3.29   \n",
       "3           89          8.86                    7                  1.78   \n",
       "4          121          8.41                    3                  2.73   \n",
       "\n",
       "   total_charge  churn  \n",
       "0         75.56      0  \n",
       "1         59.24      0  \n",
       "2         62.29      0  \n",
       "3         66.80      0  \n",
       "4         52.09      0  "
      ]
     },
     "execution_count": 6,
     "metadata": {},
     "output_type": "execute_result"
    }
   ],
   "source": [
    "#Checking First Few rows\n",
    "df.head()"
   ]
  },
  {
   "cell_type": "code",
   "execution_count": 7,
   "id": "737b3aef",
   "metadata": {},
   "outputs": [
    {
     "name": "stdout",
     "output_type": "stream",
     "text": [
      "<class 'pandas.core.frame.DataFrame'>\n",
      "RangeIndex: 3333 entries, 0 to 3332\n",
      "Data columns (total 19 columns):\n",
      " #   Column                  Non-Null Count  Dtype  \n",
      "---  ------                  --------------  -----  \n",
      " 0   account_length          3333 non-null   int64  \n",
      " 1   voice_mail_plan         3333 non-null   int64  \n",
      " 2   voice_mail_messages     3333 non-null   int64  \n",
      " 3   day_mins                3333 non-null   float64\n",
      " 4   evening_mins            3333 non-null   float64\n",
      " 5   night_mins              3333 non-null   float64\n",
      " 6   international_mins      3333 non-null   float64\n",
      " 7   customer_service_calls  3333 non-null   int64  \n",
      " 8   international_plan      3333 non-null   int64  \n",
      " 9   day_calls               3333 non-null   int64  \n",
      " 10  day_charge              3333 non-null   float64\n",
      " 11  evening_calls           3333 non-null   int64  \n",
      " 12  evening_charge          3333 non-null   float64\n",
      " 13  night_calls             3333 non-null   int64  \n",
      " 14  night_charge            3333 non-null   float64\n",
      " 15  international_calls     3333 non-null   int64  \n",
      " 16  international_charge    3333 non-null   float64\n",
      " 17  total_charge            3333 non-null   float64\n",
      " 18  churn                   3333 non-null   int64  \n",
      "dtypes: float64(9), int64(10)\n",
      "memory usage: 494.9 KB\n"
     ]
    }
   ],
   "source": [
    "#Checking the data types and nullability of columns\n",
    "df.info(verbose=True, show_counts=True)"
   ]
  },
  {
   "cell_type": "markdown",
   "id": "13e3c6ee",
   "metadata": {},
   "source": [
    "As shown above, the data set contains 3333 observations and 19 columns. Apparently, there are no null values on the data set."
   ]
  },
  {
   "cell_type": "code",
   "execution_count": 8,
   "id": "9e8282ab",
   "metadata": {},
   "outputs": [
    {
     "data": {
      "text/html": [
       "<div>\n",
       "<style scoped>\n",
       "    .dataframe tbody tr th:only-of-type {\n",
       "        vertical-align: middle;\n",
       "    }\n",
       "\n",
       "    .dataframe tbody tr th {\n",
       "        vertical-align: top;\n",
       "    }\n",
       "\n",
       "    .dataframe thead th {\n",
       "        text-align: right;\n",
       "    }\n",
       "</style>\n",
       "<table border=\"1\" class=\"dataframe\">\n",
       "  <thead>\n",
       "    <tr style=\"text-align: right;\">\n",
       "      <th></th>\n",
       "      <th>account_length</th>\n",
       "      <th>voice_mail_plan</th>\n",
       "      <th>voice_mail_messages</th>\n",
       "      <th>day_mins</th>\n",
       "      <th>evening_mins</th>\n",
       "      <th>night_mins</th>\n",
       "      <th>international_mins</th>\n",
       "      <th>customer_service_calls</th>\n",
       "      <th>international_plan</th>\n",
       "      <th>day_calls</th>\n",
       "      <th>day_charge</th>\n",
       "      <th>evening_calls</th>\n",
       "      <th>evening_charge</th>\n",
       "      <th>night_calls</th>\n",
       "      <th>night_charge</th>\n",
       "      <th>international_calls</th>\n",
       "      <th>international_charge</th>\n",
       "      <th>total_charge</th>\n",
       "      <th>churn</th>\n",
       "    </tr>\n",
       "  </thead>\n",
       "  <tbody>\n",
       "    <tr>\n",
       "      <th>count</th>\n",
       "      <td>3333.000000</td>\n",
       "      <td>3333.000000</td>\n",
       "      <td>3333.000000</td>\n",
       "      <td>3333.000000</td>\n",
       "      <td>3333.000000</td>\n",
       "      <td>3333.000000</td>\n",
       "      <td>3333.000000</td>\n",
       "      <td>3333.000000</td>\n",
       "      <td>3333.000000</td>\n",
       "      <td>3333.000000</td>\n",
       "      <td>3333.000000</td>\n",
       "      <td>3333.000000</td>\n",
       "      <td>3333.000000</td>\n",
       "      <td>3333.000000</td>\n",
       "      <td>3333.000000</td>\n",
       "      <td>3333.000000</td>\n",
       "      <td>3333.000000</td>\n",
       "      <td>3333.000000</td>\n",
       "      <td>3333.000000</td>\n",
       "    </tr>\n",
       "    <tr>\n",
       "      <th>mean</th>\n",
       "      <td>101.064806</td>\n",
       "      <td>0.276628</td>\n",
       "      <td>8.099010</td>\n",
       "      <td>179.775098</td>\n",
       "      <td>200.980348</td>\n",
       "      <td>200.872037</td>\n",
       "      <td>10.237294</td>\n",
       "      <td>1.562856</td>\n",
       "      <td>0.096910</td>\n",
       "      <td>100.435644</td>\n",
       "      <td>30.562307</td>\n",
       "      <td>100.114311</td>\n",
       "      <td>17.083540</td>\n",
       "      <td>100.107711</td>\n",
       "      <td>9.039325</td>\n",
       "      <td>4.479448</td>\n",
       "      <td>2.764581</td>\n",
       "      <td>59.449754</td>\n",
       "      <td>0.144914</td>\n",
       "    </tr>\n",
       "    <tr>\n",
       "      <th>std</th>\n",
       "      <td>39.822106</td>\n",
       "      <td>0.447398</td>\n",
       "      <td>13.688365</td>\n",
       "      <td>54.467389</td>\n",
       "      <td>50.713844</td>\n",
       "      <td>50.573847</td>\n",
       "      <td>2.791840</td>\n",
       "      <td>1.315491</td>\n",
       "      <td>0.295879</td>\n",
       "      <td>20.069084</td>\n",
       "      <td>9.259435</td>\n",
       "      <td>19.922625</td>\n",
       "      <td>4.310668</td>\n",
       "      <td>19.568609</td>\n",
       "      <td>2.275873</td>\n",
       "      <td>2.461214</td>\n",
       "      <td>0.753773</td>\n",
       "      <td>10.502261</td>\n",
       "      <td>0.352067</td>\n",
       "    </tr>\n",
       "    <tr>\n",
       "      <th>min</th>\n",
       "      <td>1.000000</td>\n",
       "      <td>0.000000</td>\n",
       "      <td>0.000000</td>\n",
       "      <td>0.000000</td>\n",
       "      <td>0.000000</td>\n",
       "      <td>23.200000</td>\n",
       "      <td>0.000000</td>\n",
       "      <td>0.000000</td>\n",
       "      <td>0.000000</td>\n",
       "      <td>0.000000</td>\n",
       "      <td>0.000000</td>\n",
       "      <td>0.000000</td>\n",
       "      <td>0.000000</td>\n",
       "      <td>33.000000</td>\n",
       "      <td>1.040000</td>\n",
       "      <td>0.000000</td>\n",
       "      <td>0.000000</td>\n",
       "      <td>22.930000</td>\n",
       "      <td>0.000000</td>\n",
       "    </tr>\n",
       "    <tr>\n",
       "      <th>25%</th>\n",
       "      <td>74.000000</td>\n",
       "      <td>0.000000</td>\n",
       "      <td>0.000000</td>\n",
       "      <td>143.700000</td>\n",
       "      <td>166.600000</td>\n",
       "      <td>167.000000</td>\n",
       "      <td>8.500000</td>\n",
       "      <td>1.000000</td>\n",
       "      <td>0.000000</td>\n",
       "      <td>87.000000</td>\n",
       "      <td>24.430000</td>\n",
       "      <td>87.000000</td>\n",
       "      <td>14.160000</td>\n",
       "      <td>87.000000</td>\n",
       "      <td>7.520000</td>\n",
       "      <td>3.000000</td>\n",
       "      <td>2.300000</td>\n",
       "      <td>52.380000</td>\n",
       "      <td>0.000000</td>\n",
       "    </tr>\n",
       "    <tr>\n",
       "      <th>50%</th>\n",
       "      <td>101.000000</td>\n",
       "      <td>0.000000</td>\n",
       "      <td>0.000000</td>\n",
       "      <td>179.400000</td>\n",
       "      <td>201.400000</td>\n",
       "      <td>201.200000</td>\n",
       "      <td>10.300000</td>\n",
       "      <td>1.000000</td>\n",
       "      <td>0.000000</td>\n",
       "      <td>101.000000</td>\n",
       "      <td>30.500000</td>\n",
       "      <td>100.000000</td>\n",
       "      <td>17.120000</td>\n",
       "      <td>100.000000</td>\n",
       "      <td>9.050000</td>\n",
       "      <td>4.000000</td>\n",
       "      <td>2.780000</td>\n",
       "      <td>59.470000</td>\n",
       "      <td>0.000000</td>\n",
       "    </tr>\n",
       "    <tr>\n",
       "      <th>75%</th>\n",
       "      <td>127.000000</td>\n",
       "      <td>1.000000</td>\n",
       "      <td>20.000000</td>\n",
       "      <td>216.400000</td>\n",
       "      <td>235.300000</td>\n",
       "      <td>235.300000</td>\n",
       "      <td>12.100000</td>\n",
       "      <td>2.000000</td>\n",
       "      <td>0.000000</td>\n",
       "      <td>114.000000</td>\n",
       "      <td>36.790000</td>\n",
       "      <td>114.000000</td>\n",
       "      <td>20.000000</td>\n",
       "      <td>113.000000</td>\n",
       "      <td>10.590000</td>\n",
       "      <td>6.000000</td>\n",
       "      <td>3.270000</td>\n",
       "      <td>66.480000</td>\n",
       "      <td>0.000000</td>\n",
       "    </tr>\n",
       "    <tr>\n",
       "      <th>max</th>\n",
       "      <td>243.000000</td>\n",
       "      <td>1.000000</td>\n",
       "      <td>51.000000</td>\n",
       "      <td>350.800000</td>\n",
       "      <td>363.700000</td>\n",
       "      <td>395.000000</td>\n",
       "      <td>20.000000</td>\n",
       "      <td>9.000000</td>\n",
       "      <td>1.000000</td>\n",
       "      <td>165.000000</td>\n",
       "      <td>59.640000</td>\n",
       "      <td>170.000000</td>\n",
       "      <td>30.910000</td>\n",
       "      <td>175.000000</td>\n",
       "      <td>17.770000</td>\n",
       "      <td>20.000000</td>\n",
       "      <td>5.400000</td>\n",
       "      <td>96.150000</td>\n",
       "      <td>1.000000</td>\n",
       "    </tr>\n",
       "  </tbody>\n",
       "</table>\n",
       "</div>"
      ],
      "text/plain": [
       "       account_length  voice_mail_plan  voice_mail_messages     day_mins  \\\n",
       "count     3333.000000      3333.000000          3333.000000  3333.000000   \n",
       "mean       101.064806         0.276628             8.099010   179.775098   \n",
       "std         39.822106         0.447398            13.688365    54.467389   \n",
       "min          1.000000         0.000000             0.000000     0.000000   \n",
       "25%         74.000000         0.000000             0.000000   143.700000   \n",
       "50%        101.000000         0.000000             0.000000   179.400000   \n",
       "75%        127.000000         1.000000            20.000000   216.400000   \n",
       "max        243.000000         1.000000            51.000000   350.800000   \n",
       "\n",
       "       evening_mins   night_mins  international_mins  customer_service_calls  \\\n",
       "count   3333.000000  3333.000000         3333.000000             3333.000000   \n",
       "mean     200.980348   200.872037           10.237294                1.562856   \n",
       "std       50.713844    50.573847            2.791840                1.315491   \n",
       "min        0.000000    23.200000            0.000000                0.000000   \n",
       "25%      166.600000   167.000000            8.500000                1.000000   \n",
       "50%      201.400000   201.200000           10.300000                1.000000   \n",
       "75%      235.300000   235.300000           12.100000                2.000000   \n",
       "max      363.700000   395.000000           20.000000                9.000000   \n",
       "\n",
       "       international_plan    day_calls   day_charge  evening_calls  \\\n",
       "count         3333.000000  3333.000000  3333.000000    3333.000000   \n",
       "mean             0.096910   100.435644    30.562307     100.114311   \n",
       "std              0.295879    20.069084     9.259435      19.922625   \n",
       "min              0.000000     0.000000     0.000000       0.000000   \n",
       "25%              0.000000    87.000000    24.430000      87.000000   \n",
       "50%              0.000000   101.000000    30.500000     100.000000   \n",
       "75%              0.000000   114.000000    36.790000     114.000000   \n",
       "max              1.000000   165.000000    59.640000     170.000000   \n",
       "\n",
       "       evening_charge  night_calls  night_charge  international_calls  \\\n",
       "count     3333.000000  3333.000000   3333.000000          3333.000000   \n",
       "mean        17.083540   100.107711      9.039325             4.479448   \n",
       "std          4.310668    19.568609      2.275873             2.461214   \n",
       "min          0.000000    33.000000      1.040000             0.000000   \n",
       "25%         14.160000    87.000000      7.520000             3.000000   \n",
       "50%         17.120000   100.000000      9.050000             4.000000   \n",
       "75%         20.000000   113.000000     10.590000             6.000000   \n",
       "max         30.910000   175.000000     17.770000            20.000000   \n",
       "\n",
       "       international_charge  total_charge        churn  \n",
       "count           3333.000000   3333.000000  3333.000000  \n",
       "mean               2.764581     59.449754     0.144914  \n",
       "std                0.753773     10.502261     0.352067  \n",
       "min                0.000000     22.930000     0.000000  \n",
       "25%                2.300000     52.380000     0.000000  \n",
       "50%                2.780000     59.470000     0.000000  \n",
       "75%                3.270000     66.480000     0.000000  \n",
       "max                5.400000     96.150000     1.000000  "
      ]
     },
     "execution_count": 8,
     "metadata": {},
     "output_type": "execute_result"
    }
   ],
   "source": [
    "#Checking the summary of the dataset\n",
    "df.describe()"
   ]
  },
  {
   "cell_type": "markdown",
   "id": "cbfa78de",
   "metadata": {},
   "source": [
    "After viewing the basic statistical details of the data. We can observe that:\n",
    "\n",
    "1. The average number of minutes a person is talking on the phone in day, evening and night is almost same.\n",
    "2. The average number of calls made during the day, evening and night is almost same.\n",
    "3. Again, the day charges are higher as compared to the evening and the night charges.\n",
    "4. We can draw a conclusion here that Day, Evening and night charges are in the ratio 4:2:1."
   ]
  },
  {
   "cell_type": "markdown",
   "id": "61621e99",
   "metadata": {},
   "source": [
    "# Checking Duplicated values"
   ]
  },
  {
   "cell_type": "code",
   "execution_count": 9,
   "id": "d3474188",
   "metadata": {},
   "outputs": [
    {
     "data": {
      "text/html": [
       "<div>\n",
       "<style scoped>\n",
       "    .dataframe tbody tr th:only-of-type {\n",
       "        vertical-align: middle;\n",
       "    }\n",
       "\n",
       "    .dataframe tbody tr th {\n",
       "        vertical-align: top;\n",
       "    }\n",
       "\n",
       "    .dataframe thead th {\n",
       "        text-align: right;\n",
       "    }\n",
       "</style>\n",
       "<table border=\"1\" class=\"dataframe\">\n",
       "  <thead>\n",
       "    <tr style=\"text-align: right;\">\n",
       "      <th></th>\n",
       "      <th>account_length</th>\n",
       "      <th>voice_mail_plan</th>\n",
       "      <th>voice_mail_messages</th>\n",
       "      <th>day_mins</th>\n",
       "      <th>evening_mins</th>\n",
       "      <th>night_mins</th>\n",
       "      <th>international_mins</th>\n",
       "      <th>customer_service_calls</th>\n",
       "      <th>international_plan</th>\n",
       "      <th>day_calls</th>\n",
       "      <th>day_charge</th>\n",
       "      <th>evening_calls</th>\n",
       "      <th>evening_charge</th>\n",
       "      <th>night_calls</th>\n",
       "      <th>night_charge</th>\n",
       "      <th>international_calls</th>\n",
       "      <th>international_charge</th>\n",
       "      <th>total_charge</th>\n",
       "      <th>churn</th>\n",
       "    </tr>\n",
       "  </thead>\n",
       "  <tbody>\n",
       "  </tbody>\n",
       "</table>\n",
       "</div>"
      ],
      "text/plain": [
       "Empty DataFrame\n",
       "Columns: [account_length, voice_mail_plan, voice_mail_messages, day_mins, evening_mins, night_mins, international_mins, customer_service_calls, international_plan, day_calls, day_charge, evening_calls, evening_charge, night_calls, night_charge, international_calls, international_charge, total_charge, churn]\n",
       "Index: []"
      ]
     },
     "execution_count": 9,
     "metadata": {},
     "output_type": "execute_result"
    }
   ],
   "source": [
    "df[df.duplicated()]"
   ]
  },
  {
   "cell_type": "markdown",
   "id": "cc4b8f40",
   "metadata": {},
   "source": [
    "As we can see above there are no duplicate values are present in the given dataset."
   ]
  },
  {
   "cell_type": "markdown",
   "id": "64b714e0",
   "metadata": {},
   "source": [
    "# Data Visualization"
   ]
  },
  {
   "cell_type": "code",
   "execution_count": 44,
   "id": "ad761eef",
   "metadata": {},
   "outputs": [
    {
     "ename": "TypeError",
     "evalue": "scatterplot() takes from 0 to 1 positional arguments but 2 positional arguments (and 1 keyword-only argument) were given",
     "output_type": "error",
     "traceback": [
      "\u001b[1;31m---------------------------------------------------------------------------\u001b[0m",
      "\u001b[1;31mTypeError\u001b[0m                                 Traceback (most recent call last)",
      "Input \u001b[1;32mIn [44]\u001b[0m, in \u001b[0;36m<cell line: 2>\u001b[1;34m()\u001b[0m\n\u001b[0;32m      1\u001b[0m \u001b[38;5;28;01mimport\u001b[39;00m \u001b[38;5;21;01mseaborn\u001b[39;00m \u001b[38;5;28;01mas\u001b[39;00m \u001b[38;5;21;01msns\u001b[39;00m\n\u001b[1;32m----> 2\u001b[0m \u001b[43msns\u001b[49m\u001b[38;5;241;43m.\u001b[39;49m\u001b[43mscatterplot\u001b[49m\u001b[43m(\u001b[49m\u001b[43mdf\u001b[49m\u001b[38;5;241;43m.\u001b[39;49m\u001b[43mday_charge\u001b[49m\u001b[43m,\u001b[49m\u001b[43m \u001b[49m\u001b[43mdf\u001b[49m\u001b[38;5;241;43m.\u001b[39;49m\u001b[43mtotal_charge\u001b[49m\u001b[43m,\u001b[49m\u001b[43m \u001b[49m\u001b[43mhue\u001b[49m\u001b[38;5;241;43m=\u001b[39;49m\u001b[38;5;28;43;01mNone\u001b[39;49;00m\u001b[43m)\u001b[49m\n",
      "\u001b[1;31mTypeError\u001b[0m: scatterplot() takes from 0 to 1 positional arguments but 2 positional arguments (and 1 keyword-only argument) were given"
     ]
    }
   ],
   "source": [
    "import seaborn as sns\n",
    "sns.scatterplot(df.day_charge, df.total_charge, hue=df.churn)"
   ]
  },
  {
   "cell_type": "code",
   "execution_count": null,
   "id": "3980c5b6",
   "metadata": {},
   "outputs": [],
   "source": [
    "sns.scatterplot(df.evening_charge, df.total_charge, hue=df.churn)"
   ]
  },
  {
   "cell_type": "code",
   "execution_count": null,
   "id": "8fcd2184",
   "metadata": {},
   "outputs": [],
   "source": [
    "sns.scatterplot(df.night_charge, df.total_charge, hue=df.churn)"
   ]
  },
  {
   "cell_type": "markdown",
   "id": "be64c5dc",
   "metadata": {},
   "source": [
    "By looking at the above plot we can observe that:\n",
    "\n",
    "1. Day charges are highly postively related to the total charge.\n",
    "2. Evening charges are less related to the total charge.\n",
    "3. Night charges are the least which is related to the total charge."
   ]
  },
  {
   "cell_type": "markdown",
   "id": "e5f1b966",
   "metadata": {},
   "source": [
    "# Churn Vs Non-Churn "
   ]
  },
  {
   "cell_type": "code",
   "execution_count": null,
   "id": "c9fc6d24",
   "metadata": {},
   "outputs": [],
   "source": [
    "df.churn.value_counts().plot(kind=\"pie\",autopct=\"%0.2f\")"
   ]
  },
  {
   "cell_type": "markdown",
   "id": "996b9abe",
   "metadata": {},
   "source": [
    "so, according to the above pie chart:\n",
    "1. 85.51% are number of NO (Customer won't Churn)\n",
    "2. 14.49% are number of YES (Customer will Churn)"
   ]
  },
  {
   "cell_type": "code",
   "execution_count": null,
   "id": "d2bfd8d9",
   "metadata": {},
   "outputs": [],
   "source": [
    "print(df['churn'].value_counts())\n",
    "sns.countplot(df['churn'])"
   ]
  },
  {
   "cell_type": "markdown",
   "id": "0ae6f325",
   "metadata": {},
   "source": [
    "The above bar plot shows the percentage of observations that correspond to each class of the response variable: no(0) and yes(1). This is an imbalanced data set because both classes are not equally distributed among all observations, being no the majority class more than 83%. When modeling, this imbalance will lead to a large number of false negatives.\n",
    "\n",
    "By this we can also conclude that:\n",
    "\n",
    "1. Churn vs Non-churn customers ratio is 1:6\n",
    "2. Churn minority class - 483 customers\n",
    "3. Non-churn - majority class - 2850 customers"
   ]
  },
  {
   "cell_type": "code",
   "execution_count": null,
   "id": "99079baf",
   "metadata": {},
   "outputs": [],
   "source": [
    "sns.barplot(df.churn, df.account_length)"
   ]
  },
  {
   "cell_type": "markdown",
   "id": "b86ad3e2",
   "metadata": {},
   "source": [
    "The above bar plot clearly shows that the account lenght has no effect on churning rate of customer. We may condisder dropping this feature from the data set in future."
   ]
  },
  {
   "cell_type": "code",
   "execution_count": null,
   "id": "1568d42a",
   "metadata": {},
   "outputs": [],
   "source": [
    "sns.countplot(df.voice_mail_plan, hue='churn', data=df)"
   ]
  },
  {
   "cell_type": "markdown",
   "id": "10b50616",
   "metadata": {},
   "source": [
    "We can see that customer who does not have voice mail plan are the highest churner. Also, we can see below that how many customers are churners and non-churners."
   ]
  },
  {
   "cell_type": "code",
   "execution_count": null,
   "id": "f706a336",
   "metadata": {},
   "outputs": [],
   "source": [
    "df[(df.voice_mail_plan == 0) & (df.churn == 1)]"
   ]
  },
  {
   "cell_type": "code",
   "execution_count": null,
   "id": "c55600bf",
   "metadata": {},
   "outputs": [],
   "source": [
    "# those who have taken voice mail plan and are churning are less no of customers\n",
    "df[(df.voice_mail_plan == 1) & (df.churn == 1)]"
   ]
  },
  {
   "cell_type": "code",
   "execution_count": null,
   "id": "6d82f449",
   "metadata": {},
   "outputs": [],
   "source": [
    "sns.barplot(df.churn, df.voice_mail_messages)"
   ]
  },
  {
   "cell_type": "markdown",
   "id": "c4286398",
   "metadata": {},
   "source": [
    "By looking at the above plot. we can observe churn customers have less number of Voice Mail Messages"
   ]
  },
  {
   "cell_type": "code",
   "execution_count": null,
   "id": "90591eb4",
   "metadata": {},
   "outputs": [],
   "source": [
    "df[(df.voice_mail_messages > 0)&(df.churn == 1)]"
   ]
  },
  {
   "cell_type": "code",
   "execution_count": null,
   "id": "7c61975b",
   "metadata": {},
   "outputs": [],
   "source": [
    "sns.countplot(df.international_plan, hue='churn', data=df)"
   ]
  },
  {
   "cell_type": "markdown",
   "id": "4618dc3f",
   "metadata": {},
   "source": [
    "By looking at the above plot, we observe that those who have no international plan are high churners."
   ]
  },
  {
   "cell_type": "code",
   "execution_count": null,
   "id": "5ce6648b",
   "metadata": {},
   "outputs": [],
   "source": [
    "df[(df.international_plan== 0) & (df.international_calls!=0)]"
   ]
  },
  {
   "cell_type": "markdown",
   "id": "3ef0578c",
   "metadata": {},
   "source": [
    "From the above data it is very obvious that there are 2992 customers with no international plan but have international calls."
   ]
  },
  {
   "cell_type": "code",
   "execution_count": null,
   "id": "9d3f6e64",
   "metadata": {},
   "outputs": [],
   "source": [
    "df.churn.value_counts()"
   ]
  },
  {
   "cell_type": "code",
   "execution_count": null,
   "id": "87273cc8",
   "metadata": {},
   "outputs": [],
   "source": [
    "df[(df.international_plan == 0)&(df.international_calls != 0)&(df.churn == 1)]"
   ]
  },
  {
   "cell_type": "markdown",
   "id": "80c6a35b",
   "metadata": {},
   "source": [
    "We can write a conclusion that, out of 483 churn customers 346 have no international plan but have international calls."
   ]
  },
  {
   "cell_type": "raw",
   "id": "037b2d8a",
   "metadata": {},
   "source": [
    "Creating new feature domestic charge which includes day, evening and night charges"
   ]
  },
  {
   "cell_type": "code",
   "execution_count": null,
   "id": "a74a3f7d",
   "metadata": {
    "scrolled": true
   },
   "outputs": [],
   "source": [
    "df_domestic = df.copy()\n",
    "df_domestic['domestic_charge'] = df_domestic['day_charge']+df_domestic['evening_charge']+df_domestic['night_charge']\n",
    "df_domestic.head()"
   ]
  },
  {
   "cell_type": "code",
   "execution_count": null,
   "id": "a4a7284a",
   "metadata": {},
   "outputs": [],
   "source": [
    "sns.scatterplot(df_domestic.domestic_charge, df_domestic.total_charge, hue = df_domestic.churn)"
   ]
  },
  {
   "cell_type": "markdown",
   "id": "634022de",
   "metadata": {},
   "source": [
    "By looking at the above scatter plot we can clearly see that:\n",
    "\n",
    "1. Domestic charge has positive linear relationship with the total charge\n",
    "2. Customers having high domestic charge (total charge) are mostly churning\n",
    "3. Only few customers with less total charge have churned\n"
   ]
  },
  {
   "cell_type": "code",
   "execution_count": null,
   "id": "66118bb1",
   "metadata": {},
   "outputs": [],
   "source": [
    "sns.scatterplot(df_domestic.international_charge, df_domestic.total_charge, hue = df_domestic.churn)"
   ]
  },
  {
   "cell_type": "code",
   "execution_count": null,
   "id": "215d43e2",
   "metadata": {},
   "outputs": [],
   "source": [
    "sns.barplot(df_domestic.international_charge, df_domestic.total_charge)"
   ]
  },
  {
   "cell_type": "code",
   "execution_count": null,
   "id": "a04ea746",
   "metadata": {},
   "outputs": [],
   "source": [
    "sns.barplot(df_domestic.churn, df_domestic.international_charge)"
   ]
  },
  {
   "cell_type": "markdown",
   "id": "a8ce07e0",
   "metadata": {},
   "source": [
    "By looking at the above scatterplot and bar plot we can see that there is no linear relationship between international charge and total charge as well as International charge is not affecting the churning rate as it is approximately same for both churn and non-churn customers."
   ]
  },
  {
   "cell_type": "markdown",
   "id": "1f5f1a79",
   "metadata": {},
   "source": [
    "# Univariate Analysis"
   ]
  },
  {
   "cell_type": "code",
   "execution_count": null,
   "id": "bc0d102e",
   "metadata": {
    "scrolled": false
   },
   "outputs": [],
   "source": [
    "for i in df.columns:\n",
    "    plt.figure(figsize=(6,4))\n",
    "    sns.histplot(df[i], palette='mako',edgecolor='black')\n",
    "    plt.xlabel(i, fontsize=10)\n",
    "    plt.show()"
   ]
  },
  {
   "cell_type": "code",
   "execution_count": null,
   "id": "765420ca",
   "metadata": {},
   "outputs": [],
   "source": [
    "sns.catplot(x='churn', y = 'day_mins', col='customer_service_calls',\n",
    "           data=df[df['customer_service_calls'] < 8], kind = 'box', col_wrap=4, height=3, aspect=0.8);"
   ]
  },
  {
   "cell_type": "markdown",
   "id": "22101bf9",
   "metadata": {},
   "source": [
    "Starting with 4 calls, total day minutes may no longer be the main factor for customer churn. day minutes have also reduced by increase in customer service calls."
   ]
  },
  {
   "cell_type": "code",
   "execution_count": null,
   "id": "0beded3b",
   "metadata": {
    "scrolled": true
   },
   "outputs": [],
   "source": [
    "sns.catplot(x='churn', y = 'night_mins', col='customer_service_calls',\n",
    "           data=df[df['customer_service_calls'] < 8], kind = 'box', col_wrap=4, height=3, aspect=0.8);"
   ]
  },
  {
   "cell_type": "markdown",
   "id": "111be512",
   "metadata": {},
   "source": [
    "Night minutes is almost equal while increase in customer service call. churn is also same pattern as not churn¶"
   ]
  },
  {
   "cell_type": "code",
   "execution_count": null,
   "id": "003dc817",
   "metadata": {},
   "outputs": [],
   "source": [
    "sns.catplot(x='churn', y = 'evening_mins', col='customer_service_calls',\n",
    "           data=df[df['customer_service_calls'] < 8], kind = 'box', col_wrap=4, height=3, aspect=0.8);"
   ]
  },
  {
   "cell_type": "markdown",
   "id": "454cb96b",
   "metadata": {},
   "source": [
    "Starting with 4 calls, total evening minutes may increased of not churn"
   ]
  },
  {
   "cell_type": "code",
   "execution_count": null,
   "id": "7db5599f",
   "metadata": {},
   "outputs": [],
   "source": [
    "sns.catplot(x='churn', y = 'international_mins', col='customer_service_calls',\n",
    "           data=df[df['customer_service_calls'] < 8], kind = 'box', col_wrap=4, height=3, aspect=0.8);"
   ]
  },
  {
   "cell_type": "markdown",
   "id": "d3b7b2f1",
   "metadata": {},
   "source": [
    "With increase in customer call, total international minutes may be the good factor for customer churn"
   ]
  },
  {
   "cell_type": "markdown",
   "id": "fa8df382",
   "metadata": {},
   "source": [
    "# Bivariate Analysis"
   ]
  },
  {
   "cell_type": "code",
   "execution_count": null,
   "id": "ba7d716b",
   "metadata": {},
   "outputs": [],
   "source": [
    "sns.pairplot(df)"
   ]
  },
  {
   "cell_type": "markdown",
   "id": "c3634a99",
   "metadata": {},
   "source": [
    "# Label Encoder"
   ]
  },
  {
   "cell_type": "code",
   "execution_count": null,
   "id": "b5b4966e",
   "metadata": {},
   "outputs": [],
   "source": [
    "obj_col = df.loc[:,df.dtypes==float].columns"
   ]
  },
  {
   "cell_type": "code",
   "execution_count": null,
   "id": "b42be70a",
   "metadata": {},
   "outputs": [],
   "source": [
    "for i in obj_col:\n",
    "    u = df[i].unique()\n",
    "    \n",
    "    print(\"{} || {} \\n\".format(i,u))"
   ]
  },
  {
   "cell_type": "code",
   "execution_count": null,
   "id": "2aaf673c",
   "metadata": {},
   "outputs": [],
   "source": [
    "for i in obj_col:\n",
    "    v = df[i].value_counts()\n",
    "    \n",
    "    print(\"{} \\n {} \\n\".format(i,v))"
   ]
  },
  {
   "cell_type": "markdown",
   "id": "2e63d383",
   "metadata": {},
   "source": [
    "# Features Selection"
   ]
  },
  {
   "cell_type": "markdown",
   "id": "94815b1d",
   "metadata": {},
   "source": [
    "1) Correlation\n",
    "\n",
    "2) RFE model\n",
    "\n",
    "3) Decision Tree features importence\n",
    "\n",
    "4) Univarient Selection"
   ]
  },
  {
   "cell_type": "code",
   "execution_count": null,
   "id": "e5808d3b",
   "metadata": {},
   "outputs": [],
   "source": [
    "df.corr()"
   ]
  },
  {
   "cell_type": "code",
   "execution_count": null,
   "id": "e70cfc55",
   "metadata": {},
   "outputs": [],
   "source": [
    "import seaborn as sns\n",
    "plt.figure(figsize=(12,12))\n",
    "sns.heatmap(df.corr(),annot=True, cmap='inferno', fmt=\"0.2g\")"
   ]
  },
  {
   "cell_type": "code",
   "execution_count": null,
   "id": "96e96b1d",
   "metadata": {},
   "outputs": [],
   "source": [
    "df.corr().sort_values(\"churn\")[\"churn\"]"
   ]
  },
  {
   "cell_type": "code",
   "execution_count": null,
   "id": "fd879092",
   "metadata": {},
   "outputs": [],
   "source": [
    "#Get Correlation of \"Churn\" with other variables:\n",
    "plt.figure(figsize=(15,12))\n",
    "df.corr()['churn'].sort_values(ascending = False).plot(kind='bar')"
   ]
  },
  {
   "cell_type": "code",
   "execution_count": null,
   "id": "0d26ddc0",
   "metadata": {},
   "outputs": [],
   "source": [
    "X = df.drop(\"churn\",axis=1)\n",
    "y = df[\"churn\"]"
   ]
  },
  {
   "cell_type": "code",
   "execution_count": null,
   "id": "7cbf6b65",
   "metadata": {},
   "outputs": [],
   "source": [
    "#Univarient Selection\n",
    "from sklearn.feature_selection import SelectKBest\n",
    "from sklearn.feature_selection import chi2\n",
    "from numpy import set_printoptions\n",
    "\n",
    "\n",
    "test = SelectKBest(score_func=chi2, k=8)\n",
    "fit = test.fit(X, y)"
   ]
  },
  {
   "cell_type": "code",
   "execution_count": null,
   "id": "87f571b2",
   "metadata": {},
   "outputs": [],
   "source": [
    "set_printoptions(precision=3)\n",
    "print(fit.scores_)"
   ]
  },
  {
   "cell_type": "code",
   "execution_count": null,
   "id": "ae47cb67",
   "metadata": {},
   "outputs": [],
   "source": [
    "fit.get_feature_names_out()"
   ]
  },
  {
   "cell_type": "code",
   "execution_count": null,
   "id": "65d20ccc",
   "metadata": {},
   "outputs": [],
   "source": [
    "col = X.columns"
   ]
  },
  {
   "cell_type": "code",
   "execution_count": null,
   "id": "1e822099",
   "metadata": {},
   "outputs": [],
   "source": [
    "data = pd.DataFrame({\"Column\":col,\"Value\":fit.scores_})\n",
    "data.sort_values(\"Value\")"
   ]
  },
  {
   "cell_type": "code",
   "execution_count": null,
   "id": "696a4b0a",
   "metadata": {},
   "outputs": [],
   "source": [
    "#RFE\n",
    "from sklearn.linear_model import LogisticRegression\n",
    "from sklearn.feature_selection import RFE\n",
    "\n",
    "model = LogisticRegression(max_iter=400)\n",
    "rfe = RFE(model, n_features_to_select = 8)\n",
    "fit = rfe.fit(X, y)"
   ]
  },
  {
   "cell_type": "code",
   "execution_count": null,
   "id": "0c2289de",
   "metadata": {},
   "outputs": [],
   "source": [
    "fit.support_"
   ]
  },
  {
   "cell_type": "code",
   "execution_count": null,
   "id": "b4aaa71b",
   "metadata": {},
   "outputs": [],
   "source": [
    "fit.ranking_"
   ]
  },
  {
   "cell_type": "code",
   "execution_count": null,
   "id": "7bac74a6",
   "metadata": {},
   "outputs": [],
   "source": [
    "data = pd.DataFrame({\"Column\":col,\"Value\":fit.ranking_})\n",
    "data.sort_values(\"Value\")"
   ]
  },
  {
   "cell_type": "code",
   "execution_count": null,
   "id": "123aba6d",
   "metadata": {},
   "outputs": [],
   "source": [
    " # Decision Tree Feature importence\n",
    "from sklearn.tree import DecisionTreeClassifier\n",
    "model = DecisionTreeClassifier()\n",
    "model.fit(X,y)"
   ]
  },
  {
   "cell_type": "code",
   "execution_count": null,
   "id": "ea1f0a9e",
   "metadata": {},
   "outputs": [],
   "source": [
    "model.feature_importances_"
   ]
  },
  {
   "cell_type": "code",
   "execution_count": null,
   "id": "c4db59f8",
   "metadata": {},
   "outputs": [],
   "source": [
    "data = pd.DataFrame({\"Column\":col,\"Value\":model.feature_importances_})\n",
    "data.sort_values(\"Value\")"
   ]
  },
  {
   "cell_type": "raw",
   "id": "c38c4411",
   "metadata": {},
   "source": [
    "Unimportant Features \n",
    "\n",
    "Corelation:\n",
    "voice_mail_plan          -0.102148\n",
    "voice_mail_messages      -0.089728\n",
    "international_calls      -0.052844\n",
    "night_calls              -0.006141\n",
    "evening_calls            -0.009233\n",
    "account_length           -0.016541\n",
    "day_calls                -0.018459\n",
    "\n",
    "Univarient Selection:\n",
    "night_calls              -0.480689\n",
    "evening_calls            -1.126160\n",
    "night_charge             -2.405542\n",
    "international_charge     -3.190593\n",
    "day_calls                -4.553059\n",
    "international_mins       -11.813081\n",
    "international_calls      -12.582769\n",
    "\n",
    "RFE:\n",
    "day_mins                 -4\n",
    "night_mins               -5\n",
    "day_charge               -6\n",
    "evening_calls            -7\n",
    "night_calls              -8\n",
    "day_calls                -9\n",
    "account_length           -10\n",
    "night_charge             -11\n",
    "\n",
    "Decision Tree:\n",
    "voice_mail_plan          -0.000000\n",
    "evening_mins             -0.006356\n",
    "day_mins                 -0.006709\n",
    "night_charge             -0.007709\n",
    "evening_charge           -0.008553\n",
    "day_charge               -0.008791\n",
    "international_mins       -0.008927\n",
    "night_calls              -0.009905"
   ]
  },
  {
   "cell_type": "markdown",
   "id": "22494fb3",
   "metadata": {},
   "source": [
    "We will drop from these features in Feature Engineering"
   ]
  },
  {
   "cell_type": "markdown",
   "id": "8462ba97",
   "metadata": {},
   "source": [
    "# Detecting Outliers"
   ]
  },
  {
   "cell_type": "markdown",
   "id": "9692a21d",
   "metadata": {},
   "source": [
    "1. Plotted outliers for all features using boxplot\n",
    "2. If outliers were very high in number then used z-scores also to plot outliers\n",
    "3.Then took the intersection (common) of both boxplot and z-scores to get outliers\n",
    "4. Checked outliers for each columns.\n",
    "5. Decided to keep the outliers as it was not confirmed whether they were measurement or data entry errors.\n",
    "6. Also deleting or changing outliers to their 10th or 90th percentile may lead to loss of information so, decided to not change the outliers"
   ]
  },
  {
   "cell_type": "code",
   "execution_count": null,
   "id": "0a173c81",
   "metadata": {},
   "outputs": [],
   "source": [
    "plt.boxplot(df)"
   ]
  },
  {
   "cell_type": "code",
   "execution_count": null,
   "id": "efa849bd",
   "metadata": {},
   "outputs": [],
   "source": [
    "def calculate_zscores(col_name):\n",
    "    UL = np.round(df[col_name].mean() + 3*(df[col_name].std()),3)\n",
    "    LL = np.round(df[col_name].mean() - 3*(df[col_name].std()),3)\n",
    "    return (LL,UL)\n",
    "\n",
    "def calculate_outliers_boxplot(colName):\n",
    "    q1,q3 = np.percentile(df[colName],[25,75])\n",
    "    iqr = q3-q1\n",
    "    LB = np.round(q1 - 1.5*(iqr),3)\n",
    "    UB = np.round(q3 + 1.5*(iqr),3)\n",
    "    return (LB,UB)"
   ]
  },
  {
   "cell_type": "code",
   "execution_count": null,
   "id": "64d7fe08",
   "metadata": {},
   "outputs": [],
   "source": [
    "plt.figure(figsize=(10,10))\n",
    "Account_length = plt.boxplot(df['account_length'])"
   ]
  },
  {
   "cell_type": "code",
   "execution_count": null,
   "id": "8d07cc64",
   "metadata": {},
   "outputs": [],
   "source": [
    "outlier_points = Account_length['fliers'][0].get_data()[1]\n",
    "outliers = outlier_points.tolist()\n",
    "print(len(outliers))\n",
    "sorted(outliers)"
   ]
  },
  {
   "cell_type": "code",
   "execution_count": null,
   "id": "8fb87657",
   "metadata": {},
   "outputs": [],
   "source": [
    "# checking outliers for upper bound\n",
    "df[df['account_length'] > 224].sort_values(by='account_length')"
   ]
  },
  {
   "cell_type": "code",
   "execution_count": null,
   "id": "b8e80925",
   "metadata": {},
   "outputs": [],
   "source": [
    "plt.figure(figsize=(8,8))\n",
    "account_length = plt.boxplot(df['voice_mail_messages'])"
   ]
  },
  {
   "cell_type": "code",
   "execution_count": null,
   "id": "799196c6",
   "metadata": {},
   "outputs": [],
   "source": [
    "plt.figure(figsize=(8,8))\n",
    "day_mins = plt.boxplot(df['day_mins'])"
   ]
  },
  {
   "cell_type": "code",
   "execution_count": null,
   "id": "b7f6bfa9",
   "metadata": {},
   "outputs": [],
   "source": [
    "outlier_points_dm = day_mins[\"fliers\"][0].get_data()[1]\n",
    "outlier_dm = outlier_points_dm.tolist()\n",
    "print(len(outlier_dm))\n",
    "sorted(outlier_dm)"
   ]
  },
  {
   "cell_type": "code",
   "execution_count": null,
   "id": "361163a1",
   "metadata": {},
   "outputs": [],
   "source": [
    "plt.figure(figsize=(8,8))\n",
    "evening_mins = plt.boxplot(df['evening_mins'])"
   ]
  },
  {
   "cell_type": "code",
   "execution_count": null,
   "id": "ef63814a",
   "metadata": {},
   "outputs": [],
   "source": [
    "outlier_evening_mins = evening_mins[\"fliers\"][0].get_data()[1]\n",
    "outlier_em = outlier_evening_mins.tolist()\n",
    "print(len(outlier_em))\n",
    "sorted(outlier_em)"
   ]
  },
  {
   "cell_type": "code",
   "execution_count": null,
   "id": "a9cf8d3f",
   "metadata": {},
   "outputs": [],
   "source": [
    "plt.figure(figsize=(8,8))\n",
    "night_mins = plt.boxplot(df['night_mins'])"
   ]
  },
  {
   "cell_type": "code",
   "execution_count": null,
   "id": "a03fc89d",
   "metadata": {},
   "outputs": [],
   "source": [
    "outlier_points_nm = night_mins[\"fliers\"][0].get_data()[1]\n",
    "outlier_nm = outlier_points_nm.tolist()\n",
    "print(len(outlier_nm))\n",
    "sorted(outlier_nm)"
   ]
  },
  {
   "cell_type": "code",
   "execution_count": null,
   "id": "7dab8a07",
   "metadata": {},
   "outputs": [],
   "source": [
    "# checking outliers for lower bound\n",
    "# here 23.2 is an outlier but no of evening calls is also less\n",
    "# data appears to be accurate\n",
    "df[df['night_mins'] < 47].sort_values(by='night_mins').iloc[:,5:]"
   ]
  },
  {
   "cell_type": "code",
   "execution_count": null,
   "id": "fc184824",
   "metadata": {},
   "outputs": [],
   "source": [
    "# checking outliers for upper bound\n",
    "df[df['night_mins'] >364].sort_values(by='night_mins').iloc[:,5:]"
   ]
  },
  {
   "cell_type": "code",
   "execution_count": null,
   "id": "871e83fd",
   "metadata": {},
   "outputs": [],
   "source": [
    "plt.figure(figsize=(8,8))\n",
    "international_mins = plt.boxplot(df['international_mins'])"
   ]
  },
  {
   "cell_type": "code",
   "execution_count": null,
   "id": "8955faee",
   "metadata": {},
   "outputs": [],
   "source": [
    "outlier_points_im = international_mins[\"fliers\"][0].get_data()[1]\n",
    "outlier_im = outlier_points_im.tolist()\n",
    "print(len(outlier_im))\n",
    "sorted(outlier_im)"
   ]
  },
  {
   "cell_type": "code",
   "execution_count": null,
   "id": "5a2fecc2",
   "metadata": {},
   "outputs": [],
   "source": [
    "plt.figure(figsize=(8,8))\n",
    "customer_service_calls = plt.boxplot(df['customer_service_calls'])"
   ]
  },
  {
   "cell_type": "code",
   "execution_count": null,
   "id": "bcf4bd52",
   "metadata": {},
   "outputs": [],
   "source": [
    "outlier_points_csc = customer_service_calls[\"fliers\"][0].get_data()[1]\n",
    "outlier_csc = outlier_points_csc.tolist()\n",
    "print(len(outlier_csc))\n",
    "sorted(outlier_csc)"
   ]
  },
  {
   "cell_type": "code",
   "execution_count": null,
   "id": "b01f16d9",
   "metadata": {},
   "outputs": [],
   "source": [
    "# this will give dataframe which will be easier to merge with the z-scores dataframe\n",
    "import numpy as np\n",
    "LB, UB = calculate_outliers_boxplot('customer_service_calls')\n",
    "print(LB,UB)\n",
    "outlier_wrt_boxplot_csc = df[(df['customer_service_calls']> UB) | (df['customer_service_calls']< LB )]\n",
    "print(outlier_wrt_boxplot_csc.shape)\n",
    "outlier_wrt_boxplot_csc"
   ]
  },
  {
   "cell_type": "code",
   "execution_count": null,
   "id": "4d21343e",
   "metadata": {},
   "outputs": [],
   "source": [
    "# we were getting lot of outliers using boxplot so using z-scores for outliers\n",
    "LL,UL = calculate_zscores('customer_service_calls')\n",
    "print(LL, UL)\n",
    "outlier_wrt_std_dev_csc = df[(df['customer_service_calls']> UL) | (df['customer_service_calls']< LL )]\n",
    "print(outlier_wrt_std_dev_csc.shape)\n",
    "outlier_wrt_std_dev_csc"
   ]
  },
  {
   "cell_type": "code",
   "execution_count": null,
   "id": "e772a066",
   "metadata": {},
   "outputs": [],
   "source": [
    "# merging zscores and boxplot outliers\n",
    "outlier_merged_csc = pd.merge(outlier_wrt_boxplot_csc, outlier_wrt_std_dev_csc, left_index=True, right_index=True)\n",
    "print(outlier_merged_csc.shape)\n",
    "outlier_merged_csc.iloc[:,7:19].sort_values(by='customer_service_calls_x')"
   ]
  },
  {
   "cell_type": "code",
   "execution_count": null,
   "id": "33dead58",
   "metadata": {},
   "outputs": [],
   "source": [
    "plt.figure(figsize=(8,8))\n",
    "r_day_calls = plt.boxplot(df['day_calls'])"
   ]
  },
  {
   "cell_type": "code",
   "execution_count": null,
   "id": "d03024d3",
   "metadata": {},
   "outputs": [],
   "source": [
    "outlier_points_dc = r_day_calls[\"fliers\"][0].get_data()[1]\n",
    "outlier_dc = outlier_points_dc.tolist()\n",
    "print(len(outlier_dc))\n",
    "sorted(outlier_dc)"
   ]
  },
  {
   "cell_type": "code",
   "execution_count": null,
   "id": "9481e875",
   "metadata": {},
   "outputs": [],
   "source": [
    "# checking for lower bound outliers\n",
    "df[df['day_calls'] < 40].sort_values(by='day_calls').iloc[:,9:]"
   ]
  },
  {
   "cell_type": "code",
   "execution_count": null,
   "id": "8c894333",
   "metadata": {},
   "outputs": [],
   "source": [
    "plt.figure(figsize=(8,8))\n",
    "day_charge = plt.boxplot(df['day_charge'])"
   ]
  },
  {
   "cell_type": "code",
   "execution_count": null,
   "id": "1575f419",
   "metadata": {},
   "outputs": [],
   "source": [
    "outlier_points_dc = day_charge[\"fliers\"][0].get_data()[1]\n",
    "outlier_dc = outlier_points_dc.tolist()\n",
    "print(len(outlier_dc))\n",
    "sorted(outlier_dc)"
   ]
  },
  {
   "cell_type": "code",
   "execution_count": null,
   "id": "a186219c",
   "metadata": {},
   "outputs": [],
   "source": [
    "plt.figure(figsize=(8,8))\n",
    "evening_calls = plt.boxplot(df['evening_calls'])\n"
   ]
  },
  {
   "cell_type": "code",
   "execution_count": null,
   "id": "2037cfcf",
   "metadata": {},
   "outputs": [],
   "source": [
    "outlier_points_ec = evening_calls[\"fliers\"][0].get_data()[1]\n",
    "outlier_ec = outlier_points_ec.tolist()\n",
    "print(len(outlier_ec))\n",
    "sorted(outlier_ec)"
   ]
  },
  {
   "cell_type": "code",
   "execution_count": null,
   "id": "c2156499",
   "metadata": {},
   "outputs": [],
   "source": [
    "df[df['evening_calls'] < 42].sort_values(by='evening_calls').iloc[:,11:]"
   ]
  },
  {
   "cell_type": "code",
   "execution_count": null,
   "id": "913e2574",
   "metadata": {},
   "outputs": [],
   "source": [
    "plt.figure(figsize=(8,8))\n",
    "evening_charge = plt.boxplot(df['evening_charge'])\n"
   ]
  },
  {
   "cell_type": "code",
   "execution_count": null,
   "id": "f60e83e2",
   "metadata": {},
   "outputs": [],
   "source": [
    "outlier_points_echarge = evening_charge[\"fliers\"][0].get_data()[1]\n",
    "outlier_echarge = outlier_points_echarge.tolist()\n",
    "print(len(outlier_echarge))\n",
    "sorted(outlier_echarge)"
   ]
  },
  {
   "cell_type": "code",
   "execution_count": null,
   "id": "eb7e8c87",
   "metadata": {},
   "outputs": [],
   "source": [
    "plt.figure(figsize=(8,8))\n",
    "night_calls = plt.boxplot(df['night_calls'])"
   ]
  },
  {
   "cell_type": "code",
   "execution_count": null,
   "id": "45813fa6",
   "metadata": {},
   "outputs": [],
   "source": [
    "outlier_points_nc = night_calls[\"fliers\"][0].get_data()[1]\n",
    "outlier_nc = outlier_points_nc.tolist()\n",
    "print(len(outlier_nc))\n",
    "sorted(outlier_nc)\n"
   ]
  },
  {
   "cell_type": "code",
   "execution_count": null,
   "id": "a994a078",
   "metadata": {},
   "outputs": [],
   "source": [
    "plt.figure(figsize=(8,8))\n",
    "night_charge = plt.boxplot(df['night_charge'])"
   ]
  },
  {
   "cell_type": "code",
   "execution_count": null,
   "id": "75abc327",
   "metadata": {},
   "outputs": [],
   "source": [
    "outlier_points_ncharge = night_charge[\"fliers\"][0].get_data()[1]\n",
    "outlier_ncharge = outlier_points_ncharge.tolist()\n",
    "print(len(outlier_ncharge))\n",
    "sorted(outlier_ncharge)"
   ]
  },
  {
   "cell_type": "code",
   "execution_count": null,
   "id": "8c0f8a4b",
   "metadata": {},
   "outputs": [],
   "source": [
    "plt.figure(figsize=(8,8))\n",
    "international_calls = plt.boxplot(df['international_calls'])\n"
   ]
  },
  {
   "cell_type": "code",
   "execution_count": null,
   "id": "96461e4e",
   "metadata": {},
   "outputs": [],
   "source": [
    "outlier_points_icalls = international_calls[\"fliers\"][0].get_data()[1]\n",
    "outlier_icalls = outlier_points_icalls.tolist()\n",
    "print(len(outlier_icalls))\n",
    "sorted(outlier_icalls)"
   ]
  },
  {
   "cell_type": "code",
   "execution_count": null,
   "id": "41f99768",
   "metadata": {},
   "outputs": [],
   "source": [
    "# using boxplot\n",
    "LB, UB = calculate_outliers_boxplot('international_calls')\n",
    "print(LB,UB)\n",
    "outlier_wrt_boxplot_ic_UB = df[df['international_calls']> UB]\n",
    "print(outlier_wrt_boxplot_ic_UB.shape)\n",
    "outlier_wrt_boxplot_ic_UB.head()"
   ]
  },
  {
   "cell_type": "code",
   "execution_count": null,
   "id": "13016faf",
   "metadata": {},
   "outputs": [],
   "source": [
    "# using z-scores\n",
    "LL,UL = calculate_zscores('international_calls')\n",
    "print(LL, UL)\n",
    "outlier_wrt_std_dev_ic_UL = df[df['international_calls']> UL ]\n",
    "print(outlier_wrt_std_dev_ic_UL.shape)\n",
    "outlier_wrt_std_dev_ic_UL.head(5)\n"
   ]
  },
  {
   "cell_type": "code",
   "execution_count": null,
   "id": "4854c2a0",
   "metadata": {},
   "outputs": [],
   "source": [
    "# merging outlier code for zscores and boxplot\n",
    "outlier_ic_UB = pd.merge(outlier_wrt_boxplot_ic_UB, outlier_wrt_std_dev_ic_UL, left_index=True, right_index=True)\n",
    "print(outlier_ic_UB.shape)\n",
    "outlier_ic_UB.iloc[:,12:19].sort_values(by='international_calls_x')"
   ]
  },
  {
   "cell_type": "markdown",
   "id": "26f11af1",
   "metadata": {},
   "source": [
    "# Feature Importance"
   ]
  },
  {
   "cell_type": "markdown",
   "id": "8c047c6b",
   "metadata": {},
   "source": [
    "# Mutual Information — Analysis of linear and nonlinear relationships"
   ]
  },
  {
   "cell_type": "markdown",
   "id": "50017719",
   "metadata": {},
   "source": [
    "Mutual information measures the mutual dependency between two variables based on entropy estimations. In machine learning, we are interested in evaluating the degree of dependency between each independent variable and the response variable. Higher values of mutual information show a higher degree of dependency which indicates that the independent variable will be useful for predicting the target.\n",
    "\n",
    "The Scikit-Learn library has implemented mutual information in the metrics package. The following code computes the mutual information score between each categorical variable of the data set and the Churn variable."
   ]
  },
  {
   "cell_type": "code",
   "execution_count": null,
   "id": "d5871166",
   "metadata": {},
   "outputs": [],
   "source": [
    "import sklearn\n",
    "from sklearn.metrics.cluster import mutual_info_score"
   ]
  },
  {
   "cell_type": "code",
   "execution_count": null,
   "id": "6f316374",
   "metadata": {},
   "outputs": [],
   "source": [
    "# function that computes the mutual infomation score between a categorical serie and the column Churn\n",
    "def compute_mutual_information(categorical_serie):\n",
    "    return mutual_info_score(categorical_serie, df.churn)\n",
    "\n",
    "# select categorial variables excluding the response variable \n",
    "categorical_variables = df.drop('churn', axis=1)\n",
    "\n",
    "# compute the mutual information score between each categorical variable and the target\n",
    "feature_importance = categorical_variables.apply(compute_mutual_information).sort_values(ascending=False)\n",
    "\n",
    "# visualize feature importance\n",
    "print(feature_importance)\n"
   ]
  },
  {
   "cell_type": "code",
   "execution_count": null,
   "id": "9c5fac95",
   "metadata": {},
   "outputs": [],
   "source": [
    "feature_importance.plot(kind='barh')"
   ]
  },
  {
   "cell_type": "markdown",
   "id": "fe72b9bd",
   "metadata": {},
   "source": [
    "Mutual information allows us not only to better understand our data but also to identify the predictor variables that are completely independent of the target.\n",
    "\n",
    "As shown above, Voice Mail Plan and international calls have a mutual information score really close to 0, meaning those variables do not have a strong relationship with the target. This information is in line with the conclusions we have previously drawn by visualizing the data. In the following steps, we should consider removing those variables from the data set before training as they do not provide useful information for predicting the outcome.\n",
    "\n",
    "The mutual information extends the notion of correlation to nonlinear relationships since, unlike Pearson’s correlation coefficient, this method is able to detect not only linear relationships but also nonlinear ones."
   ]
  },
  {
   "cell_type": "markdown",
   "id": "f92fb18f",
   "metadata": {},
   "source": [
    "# Feature Engineering"
   ]
  },
  {
   "cell_type": "markdown",
   "id": "12dd8530",
   "metadata": {},
   "source": [
    "# Feature Importance - Correlation Matrix / Mutual Information Gain / Anova Test"
   ]
  },
  {
   "cell_type": "markdown",
   "id": "74cfc56f",
   "metadata": {},
   "source": [
    "# Correlation Matrix"
   ]
  },
  {
   "cell_type": "markdown",
   "id": "c63a1d90",
   "metadata": {},
   "source": [
    "We are often interested in understanding the relationship between two variables.\n",
    "\n",
    "1. -1 indicates a perfectly negative linear correlation between two variables.\n",
    "2. 0 indicates no linear correlation between two variables.\n",
    "3. 1 indicates a perfectly positive linear correlation between two variables.\n",
    "\n",
    "The further away the correlation coefficient is from zero, the stronger the relationship between the two variables."
   ]
  },
  {
   "cell_type": "code",
   "execution_count": null,
   "id": "1c512c5c",
   "metadata": {},
   "outputs": [],
   "source": [
    "corr_matrix = df.corr()\n",
    "plt.figure(figsize=(17,8))\n",
    "sns.heatmap(corr_matrix, annot=True, cmap=\"YlGnBu\", vmax=1, vmin=-1, fmt='.2f')"
   ]
  },
  {
   "cell_type": "markdown",
   "id": "73f2340c",
   "metadata": {},
   "source": [
    "By looking at the above Correlation Matrix, We can observe that International Plan, Total Charge, and Customer Service call are the important features."
   ]
  },
  {
   "cell_type": "markdown",
   "id": "b9560cb6",
   "metadata": {},
   "source": [
    "# Mutual Information Gain"
   ]
  },
  {
   "cell_type": "markdown",
   "id": "d252b663",
   "metadata": {},
   "source": [
    "Information Gain measures the reduction in entropy or surprise by splitting a dataset according to a given value of a random variable. A larger information gain suggests a lower entropy group or groups of samples, and hence less surprise. Lower probability events have more information, higher probability events have less information. Entropy quantifies how much information there is in a random variable, or more specifically its probability distribution. A skewed distribution has a low entropy, whereas a distribution where events have equal probability has a larger entropy."
   ]
  },
  {
   "cell_type": "code",
   "execution_count": null,
   "id": "5b859bd3",
   "metadata": {},
   "outputs": [],
   "source": [
    "x = df.iloc[:,0:18]\n",
    "x.head()"
   ]
  },
  {
   "cell_type": "code",
   "execution_count": null,
   "id": "0930310f",
   "metadata": {},
   "outputs": [],
   "source": [
    "y = df.iloc[:,-1]\n",
    "y.head()"
   ]
  },
  {
   "cell_type": "code",
   "execution_count": null,
   "id": "f639733a",
   "metadata": {},
   "outputs": [],
   "source": [
    "from sklearn.feature_selection import mutual_info_classif, SelectKBest, f_classif\n",
    "importances = mutual_info_classif(x,y)\n",
    "importances"
   ]
  },
  {
   "cell_type": "code",
   "execution_count": null,
   "id": "1d2e23b3",
   "metadata": {},
   "outputs": [],
   "source": [
    "importance_list = pd.Series(importances)\n",
    "feature_name_list = df.columns\n",
    "print(feature_name_list)"
   ]
  },
  {
   "cell_type": "code",
   "execution_count": null,
   "id": "1097123a",
   "metadata": {},
   "outputs": [],
   "source": [
    "df_feature_importance = pd.DataFrame()\n",
    "df_feature_importance['Feature'] = feature_name_list\n",
    "df_feature_importance['IG'] = importance_list\n",
    "df_feature_importance.sort_values(by='IG', ascending=False)"
   ]
  },
  {
   "cell_type": "code",
   "execution_count": null,
   "id": "90d9d644",
   "metadata": {},
   "outputs": [],
   "source": [
    "sns.barplot(x='IG', y='Feature', data=df_feature_importance, color='teal')"
   ]
  },
  {
   "cell_type": "markdown",
   "id": "bda4686a",
   "metadata": {},
   "source": [
    "1. ('total_charge', 'customer_service_calls', 'international_plan') == important features\n",
    "2. ('day_mins' & 'day_charge') == drop due to multicollinearity\n",
    "\n",
    "3. ('total_charge','customer_service_calls', 'international_plan', 'international_charge') == final important features"
   ]
  },
  {
   "cell_type": "markdown",
   "id": "5e990446",
   "metadata": {},
   "source": [
    "# Anova Test"
   ]
  },
  {
   "cell_type": "markdown",
   "id": "71e7e91f",
   "metadata": {},
   "source": [
    "Analysis of Variance is a statistical method, used to check the means of two or more groups that are significantly different from each other. It assumes Hypothesis as\n",
    "\n",
    "H0: Means of all groups are equal.\n",
    "\n",
    "H1: At least one mean of the groups are different.\n",
    "\n"
   ]
  },
  {
   "cell_type": "code",
   "execution_count": null,
   "id": "10ccbee3",
   "metadata": {},
   "outputs": [],
   "source": [
    "x = df.iloc[:,0:18]\n",
    "print(x.shape)\n",
    "y = df['churn']\n",
    "print(y.shape)"
   ]
  },
  {
   "cell_type": "code",
   "execution_count": null,
   "id": "b261474f",
   "metadata": {},
   "outputs": [],
   "source": [
    "# define feature selection\n",
    "fs = SelectKBest(score_func=f_classif, k=18)\n",
    "x_selected = fs.fit(x,y)"
   ]
  },
  {
   "cell_type": "code",
   "execution_count": null,
   "id": "614ff111",
   "metadata": {},
   "outputs": [],
   "source": [
    "print(\"P values\")\n",
    "np.round(x_selected.pvalues_,3)"
   ]
  },
  {
   "cell_type": "code",
   "execution_count": null,
   "id": "e293f59e",
   "metadata": {},
   "outputs": [],
   "source": [
    "print('f1 scores')\n",
    "np.round(x_selected.scores_,3)"
   ]
  },
  {
   "cell_type": "code",
   "execution_count": null,
   "id": "c7cc0cf3",
   "metadata": {},
   "outputs": [],
   "source": [
    "import math\n",
    "\n",
    "def list_ceil(x):\n",
    "    return [math.ceil(i) for i in x]\n",
    "list_ceil(x_selected.scores_)"
   ]
  },
  {
   "cell_type": "code",
   "execution_count": null,
   "id": "e9769f55",
   "metadata": {},
   "outputs": [],
   "source": [
    "#creating dataframe of f1scores & pvalues\n",
    "\n",
    "df_anova = pd.DataFrame()\n",
    "list_pvalues = pd.Series(np.round(x_selected.pvalues_,3))\n",
    "list_fscores = list_ceil(x_selected.scores_)\n",
    "list_cols    = x.columns\n",
    "df_anova['Features'] = list_cols\n",
    "df_anova['F scores'] = list_fscores\n",
    "df_anova['Pvalues']  = list_pvalues\n",
    "df_anova.sort_values(by='F scores', ascending=False)"
   ]
  },
  {
   "cell_type": "code",
   "execution_count": null,
   "id": "18bc8c59",
   "metadata": {},
   "outputs": [],
   "source": [
    "sns.barplot(x='F scores', y='Features', data=df_anova, color='teal')"
   ]
  },
  {
   "cell_type": "markdown",
   "id": "97f3e142",
   "metadata": {},
   "source": [
    "The result is very significant that after the ANOVA Test. We find out that Iinternational Plan', Total Charge and Customer Service Calls are the important features."
   ]
  },
  {
   "cell_type": "markdown",
   "id": "328b6395",
   "metadata": {},
   "source": [
    "# Transformations"
   ]
  },
  {
   "cell_type": "markdown",
   "id": "1368b327",
   "metadata": {},
   "source": [
    "Data transformation is the process of converting raw data into a a format or structure that would be more suitable for the model or algorithm and also data discovery in general. It is an essential step in the feature engineering that facilitates discovering insights."
   ]
  },
  {
   "cell_type": "code",
   "execution_count": null,
   "id": "b71dafce",
   "metadata": {},
   "outputs": [],
   "source": [
    "df.international_calls.hist()\n",
    "print(\"Skewness = \",np.round(df.international_calls.skew(),3))\n",
    "Skewness =  1.321"
   ]
  },
  {
   "cell_type": "code",
   "execution_count": null,
   "id": "0430dfab",
   "metadata": {},
   "outputs": [],
   "source": [
    "df.customer_service_calls.hist()\n",
    "print(\"Skewness = \",np.round(df.customer_service_calls.skew(),3))\n"
   ]
  },
  {
   "cell_type": "code",
   "execution_count": null,
   "id": "679771a6",
   "metadata": {
    "scrolled": true
   },
   "outputs": [],
   "source": [
    "df.voice_mail_messages.hist()\n",
    "print('Skewness = ',df.voice_mail_messages.skew())"
   ]
  },
  {
   "cell_type": "markdown",
   "id": "20f6357c",
   "metadata": {},
   "source": [
    "Transformations are required only for continuous variables and continuous variables are all normally distributed. However, we will not do any log or sqrt transformation as these are discrete variables.\n",
    "\n",
    "As we see in the above histograms it is very obvious that skewness is high which is above 1."
   ]
  },
  {
   "cell_type": "markdown",
   "id": "94970cd6",
   "metadata": {},
   "source": [
    "# Square Root Transformation: Transform the response variable from y to √y."
   ]
  },
  {
   "cell_type": "code",
   "execution_count": null,
   "id": "704437c6",
   "metadata": {},
   "outputs": [],
   "source": [
    "#create log-transformed data\n",
    "df_log = np.sqrt(df)"
   ]
  },
  {
   "cell_type": "code",
   "execution_count": null,
   "id": "3230cb67",
   "metadata": {},
   "outputs": [],
   "source": [
    "#define grid of plots\n",
    "fig, axs = plt.subplots(nrows=1, ncols=2)\n",
    "\n",
    "#create histograms\n",
    "axs[0].hist(df, edgecolor='blue')\n",
    "axs[1].hist(df_log, edgecolor='blue')\n",
    "\n",
    "#add title to each histogram\n",
    "axs[0].set_title('Original Data')\n",
    "axs[1].set_title('Square Root Transformed Data')"
   ]
  },
  {
   "cell_type": "markdown",
   "id": "5ea9959e",
   "metadata": {},
   "source": [
    "# Cube Root Transformation: Transform the response variable from y to y1/3."
   ]
  },
  {
   "cell_type": "code",
   "execution_count": null,
   "id": "f8703707",
   "metadata": {},
   "outputs": [],
   "source": [
    "#create log-transformed data\n",
    "df_log = np.cbrt(df)"
   ]
  },
  {
   "cell_type": "code",
   "execution_count": null,
   "id": "fac5b9a3",
   "metadata": {},
   "outputs": [],
   "source": [
    "#define grid of plots\n",
    "fig, axs = plt.subplots(nrows=1, ncols=2)\n",
    "\n",
    "#create histograms\n",
    "axs[0].hist(df, edgecolor='blue')\n",
    "axs[1].hist(df_log, edgecolor='blue')\n",
    "\n",
    "#add title to each histogram\n",
    "axs[0].set_title('Original Data')\n",
    "axs[1].set_title('Cube Root Transformed Data')"
   ]
  },
  {
   "cell_type": "markdown",
   "id": "2e5b3864",
   "metadata": {},
   "source": [
    "# Box Cox transformation in Python"
   ]
  },
  {
   "cell_type": "code",
   "execution_count": null,
   "id": "9c389b16",
   "metadata": {},
   "outputs": [],
   "source": [
    "from scipy.stats import boxcox\n",
    "\n",
    "# Box-Cox Transformation in Python\n",
    "df.insert(len(df.columns), 'B_Boxcox', \n",
    "              boxcox(df.iloc[:, 0])[0])"
   ]
  },
  {
   "cell_type": "code",
   "execution_count": null,
   "id": "ae35cf1a",
   "metadata": {},
   "outputs": [],
   "source": [
    "#define grid of plots\n",
    "fig, axs = plt.subplots(nrows=1, ncols=2)\n",
    "\n",
    "#create histograms\n",
    "axs[0].hist(df, edgecolor='blue')\n",
    "axs[1].hist(df_log, edgecolor='blue')\n",
    "\n",
    "#add title to each histogram\n",
    "axs[0].set_title('Original Data')\n",
    "axs[1].set_title('Boxcox data')"
   ]
  },
  {
   "cell_type": "markdown",
   "id": "35211bef",
   "metadata": {},
   "source": [
    "# Multicollinearity - Variance Inflation Factor (VIF)"
   ]
  },
  {
   "cell_type": "code",
   "execution_count": null,
   "id": "dbe77cd6",
   "metadata": {},
   "outputs": [],
   "source": [
    "def calc_vif(X):\n",
    "\n",
    "    # Calculating VIF\n",
    "    vif = pd.DataFrame()\n",
    "    vif[\"variables\"] = X.columns\n",
    "    vif[\"VIF\"] = [variance_inflation_factor(X.values, i) for i in range(X.shape[1])]\n",
    "    \n",
    "    return(vif)"
   ]
  },
  {
   "cell_type": "code",
   "execution_count": null,
   "id": "d53f97b4",
   "metadata": {},
   "outputs": [],
   "source": [
    "X  = df.iloc[:,:-1]\n",
    "print(X.shape)\n",
    "y = df[['churn']]\n",
    "print(y.shape)"
   ]
  },
  {
   "cell_type": "code",
   "execution_count": null,
   "id": "40fb09c1",
   "metadata": {},
   "outputs": [],
   "source": [
    "corr = df.corr()\n",
    "plt.figure(figsize=(15,7))\n",
    "sns.heatmap(corr, annot=True, cmap=\"YlGnBu\", vmax=1, vmin=-1, fmt='.2f')"
   ]
  },
  {
   "cell_type": "code",
   "execution_count": null,
   "id": "5cbe1f05",
   "metadata": {},
   "outputs": [],
   "source": [
    "from statsmodels.stats.outliers_influence import variance_inflation_factor\n",
    "\n",
    "df_vif = calc_vif(X)\n",
    "df_vif.sort_values(by='VIF', ascending=False)"
   ]
  },
  {
   "cell_type": "code",
   "execution_count": null,
   "id": "1d4e22ad",
   "metadata": {},
   "outputs": [],
   "source": [
    "#deleted these variables as they are 100% related(from corelation matrix) to international_mins, night_mins,evening_mins,day_mins respectively\n",
    "df.drop(labels=['international_charge','night_charge','evening_charge','day_charge','B_Boxcox'], axis=1, inplace=True)\n",
    "df"
   ]
  },
  {
   "cell_type": "code",
   "execution_count": null,
   "id": "7c444601",
   "metadata": {},
   "outputs": [],
   "source": [
    "# again plotting vif for remaining 15 features\n",
    "X_vif_1  = df.iloc[:,:-1]\n",
    "print(X_vif_1.shape)\n",
    "\n",
    "df_vif_1 = calc_vif(X_vif_1)\n",
    "df_vif_1.sort_values(by='VIF', ascending=False)"
   ]
  },
  {
   "cell_type": "code",
   "execution_count": null,
   "id": "0009a141",
   "metadata": {},
   "outputs": [],
   "source": [
    "#deleting day_mins as it has 88% correlation with total charge\n",
    "df.drop(labels=['day_mins'], axis=1, inplace=True)\n",
    "df"
   ]
  },
  {
   "cell_type": "code",
   "execution_count": null,
   "id": "12053bda",
   "metadata": {},
   "outputs": [],
   "source": [
    "X_vif_1  = df.iloc[:,:-1]\n",
    "print(X_vif_1.shape)\n",
    "\n",
    "df_vif_2 = calc_vif(X_vif_1)\n",
    "df_vif_2.sort_values(by='VIF', ascending=False)"
   ]
  },
  {
   "cell_type": "code",
   "execution_count": null,
   "id": "63da5613",
   "metadata": {},
   "outputs": [],
   "source": [
    "# stopping here\n",
    "# also deleting more features can cause loss of information\n",
    "X_vif_1  = df.iloc[:,:-1]\n",
    "print(X_vif_1.shape)\n",
    "\n",
    "df_vif_3 = calc_vif(X_vif_1)\n",
    "df_vif_3.sort_values(by='VIF', ascending=False)"
   ]
  },
  {
   "cell_type": "code",
   "execution_count": null,
   "id": "17b92203",
   "metadata": {},
   "outputs": [],
   "source": [
    "df"
   ]
  },
  {
   "cell_type": "markdown",
   "id": "d1e5d2a9",
   "metadata": {},
   "source": [
    "# Setting a Baseline"
   ]
  },
  {
   "cell_type": "markdown",
   "id": "4c555e82",
   "metadata": {},
   "source": [
    "In machine learning, we often use a simple classifier called baseline to evaluate the performance of a model. In this classification problem, the rate of customers that did not churn (most frequent class) can be used as a baseline to evaluate the quality of the models generated. These models should outperform the baseline capabilities to be considered for future predictions."
   ]
  },
  {
   "cell_type": "markdown",
   "id": "97aa138c",
   "metadata": {},
   "source": [
    "# Splitting the data in training and testing sets"
   ]
  },
  {
   "cell_type": "markdown",
   "id": "c6c38c52",
   "metadata": {},
   "source": [
    "The first step when building a model is to split the data into two groups, which are typically referred to as training and testing sets. The training set is used by the machine learning algorithm to build the model. The test set contains samples that are not part of the learning process and is used to evaluate the model’s performance. It is important to assess the quality of the model using unseen data to guarantee an objective evaluation.\n",
    "\n",
    "First, we create a variable X to store the independent attributes of the dataset. Additionally, we create a variable y to store only the target variable (Churn)."
   ]
  },
  {
   "cell_type": "markdown",
   "id": "3cb64ba9",
   "metadata": {},
   "source": [
    "Now, we can use the train_test_split function from the sklearn.model_selection package to create both the training and testing sets."
   ]
  },
  {
   "cell_type": "markdown",
   "id": "8835f9a4",
   "metadata": {},
   "source": [
    "# Without Scaling"
   ]
  },
  {
   "cell_type": "code",
   "execution_count": 11,
   "id": "d689d122",
   "metadata": {},
   "outputs": [
    {
     "name": "stdout",
     "output_type": "stream",
     "text": [
      "(3333, 18)\n",
      "(3333, 1)\n"
     ]
    }
   ],
   "source": [
    "X  = df.iloc[:,:-1]\n",
    "print(X.shape)\n",
    "y = df[['churn']]\n",
    "print(y.shape)"
   ]
  },
  {
   "cell_type": "code",
   "execution_count": 12,
   "id": "dc35fb90",
   "metadata": {},
   "outputs": [
    {
     "name": "stdout",
     "output_type": "stream",
     "text": [
      "(2666, 18)\n",
      "(667, 18)\n",
      "(2666, 1)\n",
      "(667, 1)\n"
     ]
    }
   ],
   "source": [
    "from sklearn.model_selection import train_test_split, cross_validate\n",
    "\n",
    "df_raw = pd.DataFrame(columns=[['Models','Accuracy_tr','Accuracy_ts','F1-score_1']])\n",
    "tr_acc_list = []\n",
    "ts_acc_list = []\n",
    "ts_f1_list  = []\n",
    "\n",
    "#on raw data\n",
    "x_train,x_test,y_train,y_test = train_test_split(X, y, test_size=0.2, random_state=10, stratify=y)\n",
    "print(x_train.shape)\n",
    "print(x_test.shape)\n",
    "print(y_train.shape)\n",
    "print(y_test.shape)"
   ]
  },
  {
   "cell_type": "markdown",
   "id": "18141d83",
   "metadata": {},
   "source": [
    "# After going through the above EDA we will develop some predictive models and compare them."
   ]
  },
  {
   "cell_type": "markdown",
   "id": "b421db0a",
   "metadata": {},
   "source": [
    "# Model Evaluation"
   ]
  },
  {
   "cell_type": "code",
   "execution_count": 13,
   "id": "d2d9c151",
   "metadata": {},
   "outputs": [],
   "source": [
    "import math\n",
    "import scipy.stats as stats"
   ]
  },
  {
   "cell_type": "code",
   "execution_count": 14,
   "id": "e0d09f14",
   "metadata": {},
   "outputs": [],
   "source": [
    "from sklearn.model_selection import train_test_split, cross_validate\n",
    "from sklearn.feature_selection import mutual_info_classif, SelectKBest, f_classif\n",
    "from sklearn.ensemble import RandomForestClassifier\n",
    "from sklearn.datasets import make_classification\n",
    "from sklearn.tree import DecisionTreeClassifier\n",
    "from sklearn.naive_bayes import GaussianNB\n",
    "\n",
    "from sklearn.preprocessing import StandardScaler\n",
    "from sklearn.model_selection import train_test_split, GridSearchCV\n",
    "from sklearn.linear_model import LogisticRegression\n",
    "from xgboost import XGBClassifier\n",
    "\n",
    "from sklearn.metrics import accuracy_score,  confusion_matrix, f1_score, make_scorer, roc_auc_score, classification_report\n",
    "from statsmodels.stats.outliers_influence import variance_inflation_factor\n",
    "from imblearn.over_sampling import SMOTE\n",
    "\n",
    "from sklearn.model_selection import StratifiedKFold, KFold, cross_val_score\n",
    "from sklearn.decomposition import PCA\n",
    "from sklearn.preprocessing import scale"
   ]
  },
  {
   "cell_type": "markdown",
   "id": "456cebc3",
   "metadata": {},
   "source": [
    "# Logistic Regression"
   ]
  },
  {
   "cell_type": "code",
   "execution_count": 15,
   "id": "62068c94",
   "metadata": {},
   "outputs": [
    {
     "name": "stdout",
     "output_type": "stream",
     "text": [
      "\n",
      "\n",
      "Logistic Regression\n",
      "Training Accuracy =  0.85\n",
      "Testing Accuracy =  0.85\n",
      "[[562   8]\n",
      " [ 93   4]]\n",
      "              precision    recall  f1-score   support\n",
      "\n",
      "           0       0.86      0.99      0.92       570\n",
      "           1       0.33      0.04      0.07        97\n",
      "\n",
      "    accuracy                           0.85       667\n",
      "   macro avg       0.60      0.51      0.50       667\n",
      "weighted avg       0.78      0.85      0.79       667\n",
      "\n",
      "Training ROC AUC score=  0.53\n",
      "Testing ROC AUC score=  0.51\n"
     ]
    }
   ],
   "source": [
    "print('\\n\\nLogistic Regression')\n",
    "lr_model = LogisticRegression(random_state= 11)\n",
    "lr_model.fit(x_train,y_train)\n",
    "y_pred_train_lr = lr_model.predict(x_train)\n",
    "y_pred_test_lr  = lr_model.predict(x_test)\n",
    "\n",
    "print(\"Training Accuracy = \",np.round(accuracy_score(y_train, y_pred_train_lr),2))\n",
    "print(\"Testing Accuracy = \",np.round(accuracy_score(y_test,y_pred_test_lr),2))\n",
    "print(np.round(confusion_matrix(y_test,y_pred_test_lr),2))\n",
    "print(classification_report(y_test,y_pred_test_lr))\n",
    "print(\"Training ROC AUC score= \",np.round(roc_auc_score(y_train, y_pred_train_lr),2))\n",
    "print(\"Testing ROC AUC score= \",np.round(roc_auc_score(y_test,y_pred_test_lr),2))\n",
    "\n",
    "cl_report_lr = classification_report(y_test,y_pred_test_lr, output_dict=True)\n",
    "tr_acc_list.append(np.round(accuracy_score(y_train, y_pred_train_lr),2)) \n",
    "ts_acc_list.append(np.round(accuracy_score(y_test,y_pred_test_lr),2)) \n",
    "ts_f1_list.append(np.round(cl_report_lr['1']['f1-score'],2))\n"
   ]
  },
  {
   "cell_type": "code",
   "execution_count": 16,
   "id": "6187a87d",
   "metadata": {},
   "outputs": [
    {
     "name": "stdout",
     "output_type": "stream",
     "text": [
      "AxesSubplot(0.125,0.11;0.775x0.77)\n"
     ]
    },
    {
     "data": {
      "image/png": "[encoded data removed]",
      "text/plain": [
       "<Figure size 640x480 with 1 Axes>"
      ]
     },
     "metadata": {},
     "output_type": "display_data"
    }
   ],
   "source": [
    "# To get the weights of all the variables\n",
    "weights = pd.Series(lr_model.coef_[0], index=X.columns.values)\n",
    "print (weights.sort_values(ascending = False)[:10].plot(kind='bar'))"
   ]
  },
  {
   "cell_type": "code",
   "execution_count": 17,
   "id": "5f7959bf",
   "metadata": {},
   "outputs": [
    {
     "name": "stdout",
     "output_type": "stream",
     "text": [
      "AxesSubplot(0.125,0.11;0.775x0.77)\n"
     ]
    },
    {
     "data": {
      "image/png": "[encoded data removed]",
      "text/plain": [
       "<Figure size 640x480 with 1 Axes>"
      ]
     },
     "metadata": {},
     "output_type": "display_data"
    }
   ],
   "source": [
    "print(weights.sort_values(ascending = False)[-10:].plot(kind='bar'))"
   ]
  },
  {
   "cell_type": "markdown",
   "id": "c280303b",
   "metadata": {},
   "source": [
    "# Support Vector Machine (SVM)"
   ]
  },
  {
   "cell_type": "code",
   "execution_count": 18,
   "id": "4d5e6b77",
   "metadata": {},
   "outputs": [],
   "source": [
    "from sklearn.svm import SVC"
   ]
  },
  {
   "cell_type": "code",
   "execution_count": 19,
   "id": "56c21aeb",
   "metadata": {
    "scrolled": true
   },
   "outputs": [
    {
     "name": "stdout",
     "output_type": "stream",
     "text": [
      "\n",
      "\n",
      "Support Vector Machine\n",
      "Training Accuracy =  0.86\n",
      "Testing Accuracy =  0.85\n",
      "[[570   0]\n",
      " [ 97   0]]\n",
      "              precision    recall  f1-score   support\n",
      "\n",
      "           0       0.85      1.00      0.92       570\n",
      "           1       0.00      0.00      0.00        97\n",
      "\n",
      "    accuracy                           0.85       667\n",
      "   macro avg       0.43      0.50      0.46       667\n",
      "weighted avg       0.73      0.85      0.79       667\n",
      "\n",
      "Training ROC AUC score=  0.5\n",
      "Testing ROC AUC score=  0.5\n"
     ]
    }
   ],
   "source": [
    "print('\\n\\nSupport Vector Machine')\n",
    "svm_model = SVC(random_state= 11)\n",
    "svm_model.fit(x_train,y_train)\n",
    "y_pred_train_svm = svm_model.predict(x_train)\n",
    "y_pred_test_svm  = svm_model.predict(x_test)\n",
    "\n",
    "print(\"Training Accuracy = \",np.round(accuracy_score(y_train, y_pred_train_svm),2))\n",
    "print(\"Testing Accuracy = \",np.round(accuracy_score(y_test,y_pred_test_svm),2))\n",
    "print(np.round(confusion_matrix(y_test,y_pred_test_svm),2))\n",
    "print(classification_report(y_test,y_pred_test_svm))\n",
    "print(\"Training ROC AUC score= \",np.round(roc_auc_score(y_train, y_pred_train_svm),2))\n",
    "print(\"Testing ROC AUC score= \",np.round(roc_auc_score(y_test,y_pred_test_svm),2))\n",
    "\n",
    "cl_report_svm = classification_report(y_test,y_pred_test_svm, output_dict=True)\n",
    "tr_acc_list.append(np.round(accuracy_score(y_train, y_pred_train_svm),2)) \n",
    "ts_acc_list.append(np.round(accuracy_score(y_test,y_pred_test_svm),2)) \n",
    "ts_f1_list.append(np.round(cl_report_svm['1']['f1-score'],2))"
   ]
  },
  {
   "cell_type": "code",
   "execution_count": 20,
   "id": "a38c3e7f",
   "metadata": {},
   "outputs": [
    {
     "name": "stdout",
     "output_type": "stream",
     "text": [
      "[[570   0]\n",
      " [ 97   0]]\n"
     ]
    }
   ],
   "source": [
    "# Create the Confusion matrix\n",
    "from sklearn.metrics import classification_report, confusion_matrix  \n",
    "print(confusion_matrix(y_test,y_pred_test_svm)) "
   ]
  },
  {
   "cell_type": "code",
   "execution_count": 21,
   "id": "0de67c5a",
   "metadata": {},
   "outputs": [
    {
     "data": {
      "image/png": "[encoded data removed]",
      "text/plain": [
       "<Figure size 558.875x500 with 1 Axes>"
      ]
     },
     "metadata": {},
     "output_type": "display_data"
    }
   ],
   "source": [
    "ax1 = sns.catplot(x=\"evening_mins\", kind=\"count\", hue=\"churn\", data=df,\n",
    "                  estimator=lambda x: sum(x==0)*100.0/len(x), edgecolor='blue')\n"
   ]
  },
  {
   "cell_type": "markdown",
   "id": "1b41d5c8",
   "metadata": {},
   "source": [
    "# Random Forest"
   ]
  },
  {
   "cell_type": "code",
   "execution_count": 22,
   "id": "626867cf",
   "metadata": {},
   "outputs": [
    {
     "name": "stdout",
     "output_type": "stream",
     "text": [
      "\n",
      "\n",
      "Random Forest\n",
      "Training Accuracy =  0.91\n",
      "Testing Accuracy =  0.9\n",
      "[[570   0]\n",
      " [ 65  32]]\n",
      "              precision    recall  f1-score   support\n",
      "\n",
      "           0       0.90      1.00      0.95       570\n",
      "           1       1.00      0.33      0.50        97\n",
      "\n",
      "    accuracy                           0.90       667\n",
      "   macro avg       0.95      0.66      0.72       667\n",
      "weighted avg       0.91      0.90      0.88       667\n",
      "\n",
      "Training ROC AUC score=  0.68\n",
      "Testing ROC AUC score=  0.66\n"
     ]
    }
   ],
   "source": [
    "print('\\n\\nRandom Forest')\n",
    "rf_model = RandomForestClassifier(n_estimators=100, random_state=99, max_depth=3)\n",
    "rf_model.fit(x_train,y_train)\n",
    "y_pred_train_rf = rf_model.predict(x_train)\n",
    "y_pred_test_rf  = rf_model.predict(x_test)\n",
    "\n",
    "print(\"Training Accuracy = \",np.round(accuracy_score(y_train, y_pred_train_rf),2))\n",
    "print(\"Testing Accuracy = \",np.round(accuracy_score(y_test,y_pred_test_rf),2))\n",
    "print(np.round(confusion_matrix(y_test,y_pred_test_rf),2))\n",
    "print(classification_report(y_test,y_pred_test_rf))\n",
    "print(\"Training ROC AUC score= \",np.round(roc_auc_score(y_train, y_pred_train_rf),2))\n",
    "print(\"Testing ROC AUC score= \",np.round(roc_auc_score(y_test,y_pred_test_rf),2))\n",
    "\n",
    "cl_report_rf = classification_report(y_test,y_pred_test_rf, output_dict=True)\n",
    "tr_acc_list.append(np.round(accuracy_score(y_train, y_pred_train_rf),2)) \n",
    "ts_acc_list.append(np.round(accuracy_score(y_test,y_pred_test_rf),2)) \n",
    "ts_f1_list.append(np.round(cl_report_rf['1']['f1-score'],2))\n"
   ]
  },
  {
   "cell_type": "code",
   "execution_count": 23,
   "id": "17bb90df",
   "metadata": {},
   "outputs": [
    {
     "data": {
      "text/plain": [
       "<AxesSubplot:>"
      ]
     },
     "execution_count": 23,
     "metadata": {},
     "output_type": "execute_result"
    },
    {
     "data": {
      "image/png": "[encoded data removed]",
      "text/plain": [
       "<Figure size 640x480 with 1 Axes>"
      ]
     },
     "metadata": {},
     "output_type": "display_data"
    }
   ],
   "source": [
    "importances = rf_model.feature_importances_\n",
    "weights = pd.Series(importances,\n",
    "                 index=X.columns.values)\n",
    "weights.sort_values()[-10:].plot(kind = 'barh')"
   ]
  },
  {
   "cell_type": "markdown",
   "id": "0bbca4b2",
   "metadata": {},
   "source": [
    "# Gaussian NB"
   ]
  },
  {
   "cell_type": "code",
   "execution_count": 24,
   "id": "baeed355",
   "metadata": {},
   "outputs": [
    {
     "name": "stdout",
     "output_type": "stream",
     "text": [
      "\n",
      "\n",
      "Gaussian NB\n",
      "Training Accuracy =  0.88\n",
      "Testing Accuracy =  0.86\n",
      "[[521  49]\n",
      " [ 46  51]]\n",
      "              precision    recall  f1-score   support\n",
      "\n",
      "           0       0.92      0.91      0.92       570\n",
      "           1       0.51      0.53      0.52        97\n",
      "\n",
      "    accuracy                           0.86       667\n",
      "   macro avg       0.71      0.72      0.72       667\n",
      "weighted avg       0.86      0.86      0.86       667\n",
      "\n",
      "Training ROC AUC score=  0.79\n",
      "Testing ROC AUC score=  0.72\n"
     ]
    }
   ],
   "source": [
    "print('\\n\\nGaussian NB')\n",
    "gnb_model = GaussianNB()\n",
    "gnb_model.fit(x_train, y_train)\n",
    "y_pred_train_gnb = gnb_model.predict(x_train)\n",
    "y_pred_test_gnb  = gnb_model.predict(x_test)\n",
    "\n",
    "print(\"Training Accuracy = \",np.round(accuracy_score(y_train, y_pred_train_gnb),2))\n",
    "print(\"Testing Accuracy = \",np.round(accuracy_score(y_test,y_pred_test_gnb),2))\n",
    "print(np.round(confusion_matrix(y_test,y_pred_test_gnb),2))\n",
    "print(classification_report(y_test,y_pred_test_gnb))\n",
    "print(\"Training ROC AUC score= \",np.round(roc_auc_score(y_train, y_pred_train_gnb),2))\n",
    "print(\"Testing ROC AUC score= \",np.round(roc_auc_score(y_test, y_pred_test_gnb),2))\n",
    "\n",
    "cl_report_gnb = classification_report(y_test,y_pred_test_gnb, output_dict=True)\n",
    "tr_acc_list.append(np.round(accuracy_score(y_train, y_pred_train_gnb),2)) \n",
    "ts_acc_list.append(np.round(accuracy_score(y_test, y_pred_test_gnb),2)) \n",
    "ts_f1_list.append(np.round(cl_report_gnb['1']['f1-score'],2))"
   ]
  },
  {
   "cell_type": "markdown",
   "id": "f3f55a48",
   "metadata": {},
   "source": [
    "# Decision Tree"
   ]
  },
  {
   "cell_type": "code",
   "execution_count": 25,
   "id": "75e74581",
   "metadata": {},
   "outputs": [
    {
     "name": "stdout",
     "output_type": "stream",
     "text": [
      "\n",
      "\n",
      "Decision Tree\n",
      "Training Accuracy =  1.0\n",
      "Testing Accuracy =  0.96\n",
      "[[554  16]\n",
      " [ 14  83]]\n",
      "              precision    recall  f1-score   support\n",
      "\n",
      "           0       0.98      0.97      0.97       570\n",
      "           1       0.84      0.86      0.85        97\n",
      "\n",
      "    accuracy                           0.96       667\n",
      "   macro avg       0.91      0.91      0.91       667\n",
      "weighted avg       0.96      0.96      0.96       667\n",
      "\n",
      "Training ROC AUC score=  1.0\n",
      "Testing ROC AUC score=  0.91\n"
     ]
    }
   ],
   "source": [
    "print('\\n\\nDecision Tree')\n",
    "dt_model = DecisionTreeClassifier(random_state= 117)\n",
    "dt_model.fit(x_train,y_train)\n",
    "y_pred_train_dt = dt_model.predict(x_train)\n",
    "y_pred_test_dt  = dt_model.predict(x_test)\n",
    "print(\"Training Accuracy = \",np.round(accuracy_score(y_train, y_pred_train_dt),2))\n",
    "print(\"Testing Accuracy = \",np.round(accuracy_score(y_test,y_pred_test_dt),2))\n",
    "print(np.round(confusion_matrix(y_test,y_pred_test_dt),2))\n",
    "print(classification_report(y_test,y_pred_test_dt))\n",
    "print(\"Training ROC AUC score= \",np.round(roc_auc_score(y_train, y_pred_train_dt),2))\n",
    "print(\"Testing ROC AUC score= \",np.round(roc_auc_score(y_test,y_pred_test_dt),2))\n",
    "\n",
    "cl_report_dt = classification_report(y_test,y_pred_test_dt, output_dict=True)\n",
    "tr_acc_list.append(np.round(accuracy_score(y_train, y_pred_train_dt),2)) \n",
    "ts_acc_list.append(np.round(accuracy_score(y_test,y_pred_test_dt),2)) \n",
    "ts_f1_list.append(np.round(cl_report_dt['1']['f1-score'],2))\n",
    "\n"
   ]
  },
  {
   "cell_type": "markdown",
   "id": "c773cf68",
   "metadata": {},
   "source": [
    "# XGBoost Classifier"
   ]
  },
  {
   "cell_type": "code",
   "execution_count": 26,
   "id": "010d8f0d",
   "metadata": {},
   "outputs": [
    {
     "name": "stdout",
     "output_type": "stream",
     "text": [
      "\n",
      "\n",
      "Xgboost\n",
      "Training Accuracy =  1.0\n",
      "Testing Accuracy =  0.98\n",
      "[[570   0]\n",
      " [ 16  81]]\n",
      "              precision    recall  f1-score   support\n",
      "\n",
      "           0       0.97      1.00      0.99       570\n",
      "           1       1.00      0.84      0.91        97\n",
      "\n",
      "    accuracy                           0.98       667\n",
      "   macro avg       0.99      0.92      0.95       667\n",
      "weighted avg       0.98      0.98      0.98       667\n",
      "\n",
      "Training ROC AUC score=  1.0\n",
      "Testing ROC AUC score=  0.92\n"
     ]
    }
   ],
   "source": [
    "print('\\n\\nXgboost')\n",
    "xgb_model = XGBClassifier()\n",
    "xgb_model.fit(x_train,y_train)\n",
    "y_pred_train_xgb  = xgb_model.predict(x_train)\n",
    "y_pred_test_xgb   = xgb_model.predict(x_test)\n",
    "\n",
    "print(\"Training Accuracy = \",np.round(accuracy_score(y_train, y_pred_train_xgb),2))\n",
    "print(\"Testing Accuracy = \",np.round(accuracy_score(y_test,y_pred_test_xgb),2))\n",
    "print(np.round(confusion_matrix(y_test,y_pred_test_xgb),2))\n",
    "print(classification_report(y_test,y_pred_test_xgb))\n",
    "print(\"Training ROC AUC score= \",np.round(roc_auc_score(y_train, y_pred_train_xgb),2))\n",
    "print(\"Testing ROC AUC score= \",np.round(roc_auc_score(y_test,y_pred_test_xgb),2))\n",
    "\n",
    "cl_report_xgb = classification_report(y_test,y_pred_test_xgb, output_dict=True)\n",
    "tr_acc_list.append(np.round(accuracy_score(y_train, y_pred_train_xgb),2)) \n",
    "ts_acc_list.append(np.round(accuracy_score(y_test,y_pred_test_xgb),2)) \n",
    "ts_f1_list.append(np.round(cl_report_xgb['1']['f1-score'],2))\n",
    "\n"
   ]
  },
  {
   "cell_type": "code",
   "execution_count": 27,
   "id": "4ea50284",
   "metadata": {},
   "outputs": [
    {
     "name": "stdout",
     "output_type": "stream",
     "text": [
      "\n",
      "\n",
      "Raw Data Score\n"
     ]
    },
    {
     "data": {
      "text/html": [
       "<div>\n",
       "<style scoped>\n",
       "    .dataframe tbody tr th:only-of-type {\n",
       "        vertical-align: middle;\n",
       "    }\n",
       "\n",
       "    .dataframe tbody tr th {\n",
       "        vertical-align: top;\n",
       "    }\n",
       "\n",
       "    .dataframe thead tr th {\n",
       "        text-align: left;\n",
       "    }\n",
       "</style>\n",
       "<table border=\"1\" class=\"dataframe\">\n",
       "  <thead>\n",
       "    <tr>\n",
       "      <th></th>\n",
       "      <th>Models</th>\n",
       "      <th>Accuracy_tr</th>\n",
       "      <th>Accuracy_ts</th>\n",
       "      <th>F1-score_1</th>\n",
       "    </tr>\n",
       "  </thead>\n",
       "  <tbody>\n",
       "    <tr>\n",
       "      <th>0</th>\n",
       "      <td>LR</td>\n",
       "      <td>0.85</td>\n",
       "      <td>0.85</td>\n",
       "      <td>0.07</td>\n",
       "    </tr>\n",
       "    <tr>\n",
       "      <th>1</th>\n",
       "      <td>NB</td>\n",
       "      <td>0.86</td>\n",
       "      <td>0.85</td>\n",
       "      <td>0.00</td>\n",
       "    </tr>\n",
       "    <tr>\n",
       "      <th>2</th>\n",
       "      <td>DT</td>\n",
       "      <td>0.91</td>\n",
       "      <td>0.90</td>\n",
       "      <td>0.50</td>\n",
       "    </tr>\n",
       "    <tr>\n",
       "      <th>3</th>\n",
       "      <td>RF</td>\n",
       "      <td>0.88</td>\n",
       "      <td>0.86</td>\n",
       "      <td>0.52</td>\n",
       "    </tr>\n",
       "    <tr>\n",
       "      <th>4</th>\n",
       "      <td>XGBoost</td>\n",
       "      <td>1.00</td>\n",
       "      <td>0.96</td>\n",
       "      <td>0.85</td>\n",
       "    </tr>\n",
       "    <tr>\n",
       "      <th>5</th>\n",
       "      <td>SVM</td>\n",
       "      <td>1.00</td>\n",
       "      <td>0.98</td>\n",
       "      <td>0.91</td>\n",
       "    </tr>\n",
       "  </tbody>\n",
       "</table>\n",
       "</div>"
      ],
      "text/plain": [
       "    Models Accuracy_tr Accuracy_ts F1-score_1\n",
       "0       LR        0.85        0.85       0.07\n",
       "1       NB        0.86        0.85       0.00\n",
       "2       DT        0.91        0.90       0.50\n",
       "3       RF        0.88        0.86       0.52\n",
       "4  XGBoost        1.00        0.96       0.85\n",
       "5      SVM        1.00        0.98       0.91"
      ]
     },
     "execution_count": 27,
     "metadata": {},
     "output_type": "execute_result"
    }
   ],
   "source": [
    "print('\\n\\nRaw Data Score')\n",
    "model_string =['LR', 'NB', 'DT','RF','XGBoost', 'SVM'] \n",
    "df_raw['Models'] = model_string\n",
    "df_raw['Accuracy_tr'] = tr_acc_list\n",
    "df_raw['Accuracy_ts'] = ts_acc_list\n",
    "df_raw['F1-score_1'] = ts_f1_list\n",
    "df_raw"
   ]
  },
  {
   "cell_type": "markdown",
   "id": "6dad6e02",
   "metadata": {},
   "source": [
    "1. Accuracy is high for DT, XGBoost & SVM\n",
    "2. F1 score is good for XGBoost & SVM\n",
    "3. F1 score is very low for all other models"
   ]
  },
  {
   "cell_type": "markdown",
   "id": "60616191",
   "metadata": {},
   "source": [
    "# Scaled Data - Standard Scaler"
   ]
  },
  {
   "cell_type": "code",
   "execution_count": 28,
   "id": "eb277d91",
   "metadata": {},
   "outputs": [
    {
     "name": "stdout",
     "output_type": "stream",
     "text": [
      "(2666, 18)\n",
      "(667, 18)\n",
      "(2666, 1)\n",
      "(667, 1)\n"
     ]
    }
   ],
   "source": [
    "df_scaled = pd.Series(['Models','Accuracy_tr','Accuracy_ts','F1-score_1'])\n",
    "tr_acc_list_scaled = []\n",
    "ts_acc_list_scaled = []\n",
    "ts_f1_list_scaled  = []\n",
    "\n",
    "scaler = StandardScaler()\n",
    "x_scaled = scaler.fit_transform(X)\n",
    "\n",
    "x_train,x_test,y_train,y_test = train_test_split(x_scaled, y, test_size=0.2, random_state=12, stratify=y)\n",
    "print(x_train.shape)\n",
    "print(x_test.shape)\n",
    "print(y_train.shape)\n",
    "print(y_test.shape)"
   ]
  },
  {
   "cell_type": "code",
   "execution_count": 29,
   "id": "8bca7b02",
   "metadata": {},
   "outputs": [
    {
     "name": "stdout",
     "output_type": "stream",
     "text": [
      "Logistic Regression\n",
      "Training Accuracy =  0.86\n",
      "Testing Accuracy =  0.87\n",
      "[[547  23]\n",
      " [ 67  30]]\n",
      "              precision    recall  f1-score   support\n",
      "\n",
      "           0       0.89      0.96      0.92       570\n",
      "           1       0.57      0.31      0.40        97\n",
      "\n",
      "    accuracy                           0.87       667\n",
      "   macro avg       0.73      0.63      0.66       667\n",
      "weighted avg       0.84      0.87      0.85       667\n",
      "\n",
      "Training ROC AUC score=  0.58\n",
      "Testing ROC AUC score=  0.63\n",
      "\n",
      "\n",
      "Gaussian NB\n",
      "Training Accuracy =  0.87\n",
      "Testing Accuracy =  0.88\n",
      "[[517  53]\n",
      " [ 25  72]]\n",
      "              precision    recall  f1-score   support\n",
      "\n",
      "           0       0.95      0.91      0.93       570\n",
      "           1       0.58      0.74      0.65        97\n",
      "\n",
      "    accuracy                           0.88       667\n",
      "   macro avg       0.76      0.82      0.79       667\n",
      "weighted avg       0.90      0.88      0.89       667\n",
      "\n",
      "Training ROC AUC score=  0.77\n",
      "Testing ROC AUC score=  0.82\n",
      "\n",
      "Decision Tree\n",
      "Training Accuracy =  1.0\n",
      "Testing Accuracy =  0.93\n",
      "[[538  32]\n",
      " [ 14  83]]\n",
      "              precision    recall  f1-score   support\n",
      "\n",
      "           0       0.97      0.94      0.96       570\n",
      "           1       0.72      0.86      0.78        97\n",
      "\n",
      "    accuracy                           0.93       667\n",
      "   macro avg       0.85      0.90      0.87       667\n",
      "weighted avg       0.94      0.93      0.93       667\n",
      "\n",
      "Training ROC AUC score=  1.0\n",
      "Testing ROC AUC score=  0.9\n",
      "\n",
      "Random Forest\n",
      "Training Accuracy =  0.91\n",
      "Testing Accuracy =  0.92\n",
      "F1 score =  0.61\n",
      "[[570   0]\n",
      " [ 54  43]]\n",
      "              precision    recall  f1-score   support\n",
      "\n",
      "           0       0.91      1.00      0.95       570\n",
      "           1       1.00      0.44      0.61        97\n",
      "\n",
      "    accuracy                           0.92       667\n",
      "   macro avg       0.96      0.72      0.78       667\n",
      "weighted avg       0.93      0.92      0.91       667\n",
      "\n",
      "Training ROC AUC score=  0.7\n",
      "Testing ROC AUC score=  0.72\n",
      "\n",
      "Xgboost\n",
      "Training Accuracy =  1.0\n",
      "Testing Accuracy =  0.98\n",
      "[[570   0]\n",
      " [ 14  83]]\n",
      "              precision    recall  f1-score   support\n",
      "\n",
      "           0       0.98      1.00      0.99       570\n",
      "           1       1.00      0.86      0.92        97\n",
      "\n",
      "    accuracy                           0.98       667\n",
      "   macro avg       0.99      0.93      0.96       667\n",
      "weighted avg       0.98      0.98      0.98       667\n",
      "\n",
      "Training ROC AUC score=  1.0\n",
      "Testing ROC AUC score=  0.93\n",
      "\n",
      "\n",
      "Support Vector Machine\n",
      "Training Accuracy =  0.95\n",
      "Testing Accuracy =  0.93\n",
      "[[563   7]\n",
      " [ 41  56]]\n",
      "              precision    recall  f1-score   support\n",
      "\n",
      "           0       0.93      0.99      0.96       570\n",
      "           1       0.89      0.58      0.70        97\n",
      "\n",
      "    accuracy                           0.93       667\n",
      "   macro avg       0.91      0.78      0.83       667\n",
      "weighted avg       0.93      0.93      0.92       667\n",
      "\n",
      "Training ROC AUC score=  0.85\n",
      "Testing ROC AUC score=  0.78\n"
     ]
    }
   ],
   "source": [
    "# logistic Regression\n",
    "print('Logistic Regression')\n",
    "lr_model = LogisticRegression(random_state= 13)\n",
    "lr_model.fit(x_train,y_train)\n",
    "y_pred_train_lr = lr_model.predict(x_train)\n",
    "y_pred_test_lr = lr_model.predict(x_test)\n",
    "\n",
    "print(\"Training Accuracy = \",np.round(accuracy_score(y_train, y_pred_train_lr),2))\n",
    "print(\"Testing Accuracy = \",np.round(accuracy_score(y_test,y_pred_test_lr),2))\n",
    "print(np.round(confusion_matrix(y_test,y_pred_test_lr),2))\n",
    "print(classification_report(y_test,y_pred_test_lr))\n",
    "print(\"Training ROC AUC score= \",np.round(roc_auc_score(y_train, y_pred_train_lr),2))\n",
    "print(\"Testing ROC AUC score= \",np.round(roc_auc_score(y_test,y_pred_test_lr),2))\n",
    "\n",
    "cl_report_lr = classification_report(y_test,y_pred_test_lr, output_dict=True)\n",
    "tr_acc_list_scaled.append(np.round(accuracy_score(y_train, y_pred_train_lr),2)) \n",
    "ts_acc_list_scaled.append(np.round(accuracy_score(y_test,y_pred_test_lr),2)) \n",
    "ts_f1_list_scaled.append(np.round(cl_report_lr['1']['f1-score'],2))\n",
    "\n",
    "# Gaussian NB\n",
    "print('\\n\\nGaussian NB')\n",
    "gnb_model = GaussianNB()\n",
    "gnb_model.fit(x_train, y_train)\n",
    "y_pred_train_gnb = gnb_model.predict(x_train)\n",
    "y_pred_test_gnb = gnb_model.predict(x_test)\n",
    "\n",
    "print(\"Training Accuracy = \",np.round(accuracy_score(y_train, y_pred_train_gnb),2))\n",
    "print(\"Testing Accuracy = \",np.round(accuracy_score(y_test,y_pred_test_gnb),2))\n",
    "print(np.round(confusion_matrix(y_test,y_pred_test_gnb),2))\n",
    "print(classification_report(y_test,y_pred_test_gnb))\n",
    "print(\"Training ROC AUC score= \",np.round(roc_auc_score(y_train, y_pred_train_gnb),2))\n",
    "print(\"Testing ROC AUC score= \",np.round(roc_auc_score(y_test,y_pred_test_gnb),2))\n",
    "\n",
    "cl_report_gnb = classification_report(y_test,y_pred_test_gnb, output_dict=True)\n",
    "tr_acc_list_scaled.append(np.round(accuracy_score(y_train, y_pred_train_gnb),2)) \n",
    "ts_acc_list_scaled.append(np.round(accuracy_score(y_test,y_pred_test_gnb),2)) \n",
    "ts_f1_list_scaled.append(np.round(cl_report_gnb['1']['f1-score'],2))\n",
    "\n",
    "\n",
    "#Decision Tree\n",
    "print('\\nDecision Tree')\n",
    "dt_model = DecisionTreeClassifier(random_state= 117)\n",
    "dt_model.fit(x_train,y_train)\n",
    "y_pred_train_dt = dt_model.predict(x_train)\n",
    "y_pred_test_dt  = dt_model.predict(x_test)\n",
    "\n",
    "print(\"Training Accuracy = \",np.round(accuracy_score(y_train, y_pred_train_dt),2))\n",
    "print(\"Testing Accuracy = \",np.round(accuracy_score(y_test,y_pred_test_dt),2))\n",
    "print(np.round(confusion_matrix(y_test,y_pred_test_dt),2))\n",
    "print(classification_report(y_test,y_pred_test_dt))\n",
    "print(\"Training ROC AUC score= \",np.round(roc_auc_score(y_train, y_pred_train_dt),2))\n",
    "print(\"Testing ROC AUC score= \",np.round(roc_auc_score(y_test,y_pred_test_dt),2))\n",
    "\n",
    "cl_report_dt = classification_report(y_test,y_pred_test_dt, output_dict=True)\n",
    "tr_acc_list_scaled.append(np.round(accuracy_score(y_train, y_pred_train_dt),2)) \n",
    "ts_acc_list_scaled.append(np.round(accuracy_score(y_test,y_pred_test_dt),2)) \n",
    "ts_f1_list_scaled.append(np.round(cl_report_dt['1']['f1-score'],2))\n",
    "\n",
    "# Random Forest\n",
    "print('\\nRandom Forest')\n",
    "rf_model = RandomForestClassifier(n_estimators=100, max_depth=3, random_state=99)\n",
    "rf_model.fit(x_train,y_train)\n",
    "y_pred_train_rf = rf_model.predict(x_train)\n",
    "y_pred_test_rf  = rf_model.predict(x_test)\n",
    "\n",
    "print(\"Training Accuracy = \",np.round(accuracy_score(y_train, y_pred_train_rf),2))\n",
    "print(\"Testing Accuracy = \",np.round(accuracy_score(y_test,y_pred_test_rf),2))\n",
    "print(\"F1 score = \",np.round(f1_score(y_test,y_pred_test_rf),2))\n",
    "print(np.round(confusion_matrix(y_test,y_pred_test_rf),2))\n",
    "print(classification_report(y_test,y_pred_test_rf))\n",
    "print(\"Training ROC AUC score= \",np.round(roc_auc_score(y_train, y_pred_train_rf),2))\n",
    "print(\"Testing ROC AUC score= \",np.round(roc_auc_score(y_test,y_pred_test_rf),2))\n",
    "\n",
    "cl_report_rf = classification_report(y_test,y_pred_test_rf, output_dict=True)\n",
    "tr_acc_list_scaled.append(np.round(accuracy_score(y_train, y_pred_train_rf),2)) \n",
    "ts_acc_list_scaled.append(np.round(accuracy_score(y_test,y_pred_test_rf),2)) \n",
    "ts_f1_list_scaled.append(np.round(cl_report_rf['1']['f1-score'],2))\n",
    "\n",
    "\n",
    "#xgboost classifier\n",
    "print('\\nXgboost')\n",
    "xgb_model = XGBClassifier()\n",
    "xgb_model.fit(x_train,y_train)\n",
    "y_pred_train_xgb  = xgb_model.predict(x_train)\n",
    "y_pred_test_xgb   = xgb_model.predict(x_test)\n",
    "\n",
    "print(\"Training Accuracy = \",np.round(accuracy_score(y_train, y_pred_train_xgb),2))\n",
    "print(\"Testing Accuracy = \",np.round(accuracy_score(y_test,y_pred_test_xgb),2))\n",
    "print(np.round(confusion_matrix(y_test,y_pred_test_xgb),2))\n",
    "print(classification_report(y_test,y_pred_test_xgb))\n",
    "print(\"Training ROC AUC score= \",np.round(roc_auc_score(y_train, y_pred_train_xgb),2))\n",
    "print(\"Testing ROC AUC score= \",np.round(roc_auc_score(y_test,y_pred_test_xgb),2))\n",
    "\n",
    "cl_report_xgb = classification_report(y_test,y_pred_test_xgb, output_dict=True)\n",
    "tr_acc_list_scaled.append(np.round(accuracy_score(y_train, y_pred_train_xgb),2)) \n",
    "ts_acc_list_scaled.append(np.round(accuracy_score(y_test,y_pred_test_xgb),2)) \n",
    "ts_f1_list_scaled.append(np.round(cl_report_xgb['1']['f1-score'],2))\n",
    "\n",
    "#SVM\n",
    "print('\\n\\nSupport Vector Machine')\n",
    "svm_model = SVC()\n",
    "svm_model.fit(x_train,y_train)\n",
    "y_pred_train_svm = svm_model.predict(x_train)\n",
    "y_pred_test_svm  = svm_model.predict(x_test)\n",
    "\n",
    "print(\"Training Accuracy = \",np.round(accuracy_score(y_train, y_pred_train_svm),2))\n",
    "print(\"Testing Accuracy = \",np.round(accuracy_score(y_test,y_pred_test_svm),2))\n",
    "print(np.round(confusion_matrix(y_test,y_pred_test_svm),2))\n",
    "print(classification_report(y_test,y_pred_test_svm))\n",
    "print(\"Training ROC AUC score= \",np.round(roc_auc_score(y_train, y_pred_train_svm),2))\n",
    "print(\"Testing ROC AUC score= \",np.round(roc_auc_score(y_test,y_pred_test_svm),2))\n",
    "\n",
    "cl_report_svm = classification_report(y_test,y_pred_test_svm, output_dict=True)\n",
    "tr_acc_list.append(np.round(accuracy_score(y_train, y_pred_train_svm),2)) \n",
    "ts_acc_list.append(np.round(accuracy_score(y_test,y_pred_test_svm),2)) \n",
    "ts_f1_list.append(np.round(cl_report_svm['1']['f1-score'],2))\n"
   ]
  },
  {
   "cell_type": "code",
   "execution_count": 30,
   "id": "649474c3",
   "metadata": {},
   "outputs": [
    {
     "name": "stdout",
     "output_type": "stream",
     "text": [
      "\n",
      "\n",
      "Standard Scaler Score\n"
     ]
    },
    {
     "data": {
      "text/plain": [
       "0                                      Models\n",
       "1                                 Accuracy_tr\n",
       "2                                 Accuracy_ts\n",
       "3                                  F1-score_1\n",
       "Models         [LR, NB, DT, RF, XGBoost, SVM]\n",
       "Accuracy_tr      [0.86, 0.87, 1.0, 0.91, 1.0]\n",
       "Accuracy_ts    [0.87, 0.88, 0.93, 0.92, 0.98]\n",
       "F1-score_1      [0.4, 0.65, 0.78, 0.61, 0.92]\n",
       "dtype: object"
      ]
     },
     "execution_count": 30,
     "metadata": {},
     "output_type": "execute_result"
    }
   ],
   "source": [
    "print('\\n\\nStandard Scaler Score')\n",
    "model_string =['LR', 'NB', 'DT','RF','XGBoost','SVM'] \n",
    "df_scaled['Models'] = model_string\n",
    "df_scaled['Accuracy_tr'] = tr_acc_list_scaled\n",
    "df_scaled['Accuracy_ts'] = ts_acc_list_scaled\n",
    "df_scaled['F1-score_1'] = ts_f1_list_scaled\n",
    "df_scaled"
   ]
  },
  {
   "cell_type": "markdown",
   "id": "1b76de03",
   "metadata": {},
   "source": [
    "All models are performing better with Standardization Except DT which is performing better without standardization ie. on raw data"
   ]
  },
  {
   "cell_type": "markdown",
   "id": "d4b9d988",
   "metadata": {},
   "source": [
    "# SMOTE - Synthetic Minority Oversampling Technique"
   ]
  },
  {
   "cell_type": "markdown",
   "id": "596a759b",
   "metadata": {},
   "source": [
    "# Smote on Scaled Data"
   ]
  },
  {
   "cell_type": "code",
   "execution_count": 31,
   "id": "ee4bc642",
   "metadata": {},
   "outputs": [
    {
     "name": "stdout",
     "output_type": "stream",
     "text": [
      "(3333, 18)\n",
      "(3333, 1)\n",
      "(2666, 18)\n",
      "(667, 18)\n",
      "(2666, 1)\n",
      "(667, 1)\n"
     ]
    }
   ],
   "source": [
    "# scaled data\n",
    "X = df.iloc[:,:-1]\n",
    "print(X.shape)\n",
    "y = df[['churn']]\n",
    "print(y.shape)\n",
    "\n",
    "scaler = StandardScaler()\n",
    "x_scaled = scaler.fit_transform(X)\n",
    "\n",
    "x_train,x_test,y_train,y_test = train_test_split(x_scaled, y, test_size=0.2, random_state=32, stratify=y)\n",
    "print(x_train.shape)\n",
    "print(x_test.shape)\n",
    "print(y_train.shape)\n",
    "print(y_test.shape)"
   ]
  },
  {
   "cell_type": "code",
   "execution_count": 32,
   "id": "a9742305",
   "metadata": {},
   "outputs": [
    {
     "name": "stdout",
     "output_type": "stream",
     "text": [
      "[2280  386]\n"
     ]
    },
    {
     "data": {
      "text/plain": [
       "<AxesSubplot:ylabel='count'>"
      ]
     },
     "execution_count": 32,
     "metadata": {},
     "output_type": "execute_result"
    },
    {
     "data": {
      "image/png": "[encoded data removed]",
      "text/plain": [
       "<Figure size 640x480 with 1 Axes>"
      ]
     },
     "metadata": {},
     "output_type": "display_data"
    }
   ],
   "source": [
    "# converts 2d array to 1d array\n",
    "# the minority class is 386 and \n",
    "y_train_1darray = np.ravel(y_train)\n",
    "print(np.bincount(y_train_1darray))\n",
    "sns.countplot(y_train_1darray)"
   ]
  },
  {
   "cell_type": "code",
   "execution_count": 33,
   "id": "53e937c9",
   "metadata": {},
   "outputs": [],
   "source": [
    "# performing smote on training data\n",
    "sm = SMOTE(sampling_strategy={1:772}, random_state=0)\n",
    "x_res, y_res = sm.fit_resample(x_train, y_train)"
   ]
  },
  {
   "cell_type": "code",
   "execution_count": 34,
   "id": "bd79bb0e",
   "metadata": {},
   "outputs": [
    {
     "data": {
      "text/plain": [
       "array([2280,  772], dtype=int64)"
      ]
     },
     "execution_count": 34,
     "metadata": {},
     "output_type": "execute_result"
    }
   ],
   "source": [
    "# converts 2d array to 1d array\n",
    "# the minority class has now become in the ration of 2:5\n",
    "y_res_1darray = np.ravel(y_res)\n",
    "np.bincount(y_res_1darray)"
   ]
  },
  {
   "cell_type": "code",
   "execution_count": 35,
   "id": "872f5e01",
   "metadata": {},
   "outputs": [
    {
     "data": {
      "text/plain": [
       "<AxesSubplot:ylabel='count'>"
      ]
     },
     "execution_count": 35,
     "metadata": {},
     "output_type": "execute_result"
    },
    {
     "data": {
      "image/png": "[encoded data removed]",
      "text/plain": [
       "<Figure size 640x480 with 1 Axes>"
      ]
     },
     "metadata": {},
     "output_type": "display_data"
    }
   ],
   "source": [
    "sns.countplot(y_res_1darray)"
   ]
  },
  {
   "cell_type": "code",
   "execution_count": 36,
   "id": "cfa545eb",
   "metadata": {},
   "outputs": [
    {
     "name": "stdout",
     "output_type": "stream",
     "text": [
      "Logistic Regression with SMOTE\n",
      "Training Accuracy =  0.8\n",
      "Testing Accuracy =  0.84\n",
      "[[524  46]\n",
      " [ 58  39]]\n",
      "              precision    recall  f1-score   support\n",
      "\n",
      "           0       0.90      0.92      0.91       570\n",
      "           1       0.46      0.40      0.43        97\n",
      "\n",
      "    accuracy                           0.84       667\n",
      "   macro avg       0.68      0.66      0.67       667\n",
      "weighted avg       0.84      0.84      0.84       667\n",
      "\n",
      "Training ROC AUC score=  0.68\n",
      "Testing ROC AUC score=  0.66\n",
      "\n",
      "\n",
      "Gaussian NB\n",
      "Training Accuracy =  0.84\n",
      "Testing Accuracy =  0.86\n",
      "[[505  65]\n",
      " [ 29  68]]\n",
      "              precision    recall  f1-score   support\n",
      "\n",
      "           0       0.95      0.89      0.91       570\n",
      "           1       0.51      0.70      0.59        97\n",
      "\n",
      "    accuracy                           0.86       667\n",
      "   macro avg       0.73      0.79      0.75       667\n",
      "weighted avg       0.88      0.86      0.87       667\n",
      "\n",
      "Training ROC AUC score=  0.79\n",
      "Testing ROC AUC score=  0.79\n",
      "\n",
      "Decision Tree\n",
      "Training Accuracy =  1.0\n",
      "Testing Accuracy =  0.94\n",
      "[[543  27]\n",
      " [ 10  87]]\n",
      "              precision    recall  f1-score   support\n",
      "\n",
      "           0       0.98      0.95      0.97       570\n",
      "           1       0.76      0.90      0.82        97\n",
      "\n",
      "    accuracy                           0.94       667\n",
      "   macro avg       0.87      0.92      0.90       667\n",
      "weighted avg       0.95      0.94      0.95       667\n",
      "\n",
      "Training ROC AUC score=  1.0\n",
      "Testing ROC AUC score=  0.92\n",
      "\n",
      "Random Forest with SMOTE\n",
      "Training Accuracy =  0.95\n",
      "Testing Accuracy =  0.96\n",
      "[[570   0]\n",
      " [ 24  73]]\n",
      "              precision    recall  f1-score   support\n",
      "\n",
      "           0       0.96      1.00      0.98       570\n",
      "           1       1.00      0.75      0.86        97\n",
      "\n",
      "    accuracy                           0.96       667\n",
      "   macro avg       0.98      0.88      0.92       667\n",
      "weighted avg       0.97      0.96      0.96       667\n",
      "\n",
      "Training ROC AUC score=  0.9\n",
      "Testing ROC AUC score=  0.88\n",
      "\n",
      "Xgboost with SMOTE\n",
      "Training Accuracy =  1.0\n",
      "Testing Accuracy =  0.98\n",
      "[[566   4]\n",
      " [  9  88]]\n",
      "              precision    recall  f1-score   support\n",
      "\n",
      "           0       0.98      0.99      0.99       570\n",
      "           1       0.96      0.91      0.93        97\n",
      "\n",
      "    accuracy                           0.98       667\n",
      "   macro avg       0.97      0.95      0.96       667\n",
      "weighted avg       0.98      0.98      0.98       667\n",
      "\n",
      "Training ROC AUC score=  1.0\n",
      "Testing ROC AUC score=  0.95\n",
      "\n",
      "\n",
      "Support Vector Machine\n",
      "Training Accuracy =  0.95\n",
      "Testing Accuracy =  0.93\n",
      "[[550  20]\n",
      " [ 27  70]]\n",
      "              precision    recall  f1-score   support\n",
      "\n",
      "           0       0.95      0.96      0.96       570\n",
      "           1       0.78      0.72      0.75        97\n",
      "\n",
      "    accuracy                           0.93       667\n",
      "   macro avg       0.87      0.84      0.85       667\n",
      "weighted avg       0.93      0.93      0.93       667\n",
      "\n",
      "Training ROC AUC score=  0.91\n",
      "Testing ROC AUC score=  0.84\n"
     ]
    }
   ],
   "source": [
    "# now will train the model on the resampled training set using smote\n",
    "# smote will be done only for training data\n",
    "# doubled the minority class i.e 1 (churn) from 386 to 772\n",
    "# Increased the minority class only for training data\n",
    "# will check on test data after training the model with smote\n",
    "\n",
    "df_scaled_sm = pd.DataFrame(columns=[['Models','Accuracy_tr','Accuracy_ts','F1-score_1']])\n",
    "tr_acc_list = []\n",
    "ts_acc_list = []\n",
    "ts_f1_list  = []\n",
    "\n",
    "#Logistic Regression\n",
    "print('Logistic Regression with SMOTE')\n",
    "lr_model_sm         = LogisticRegression(random_state= 33)\n",
    "lr_model_sm.fit(x_res,y_res)\n",
    "y_pred_train_lr_sm  = lr_model_sm.predict(x_res)#x_train\n",
    "y_pred_test_lr_sm   = lr_model_sm.predict(x_test)\n",
    "\n",
    "print(\"Training Accuracy = \",np.round(accuracy_score(y_res, y_pred_train_lr_sm),2))#y_train\n",
    "print(\"Testing Accuracy = \",np.round(accuracy_score(y_test,y_pred_test_lr_sm),2))\n",
    "print(np.round(confusion_matrix(y_test,y_pred_test_lr_sm),2))\n",
    "print(classification_report(y_test,y_pred_test_lr_sm))\n",
    "print(\"Training ROC AUC score= \",np.round(roc_auc_score(y_res, y_pred_train_lr_sm),2))#y_train\n",
    "print(\"Testing ROC AUC score= \",np.round(roc_auc_score(y_test,y_pred_test_lr_sm),2))\n",
    "\n",
    "cl_report_lr_sm = classification_report(y_test,y_pred_test_lr_sm, output_dict=True)\n",
    "tr_acc_list.append(np.round(accuracy_score(y_res, y_pred_train_lr_sm),2)) \n",
    "ts_acc_list.append(np.round(accuracy_score(y_test,y_pred_test_lr_sm),2)) \n",
    "ts_f1_list.append(np.round(cl_report_lr_sm['1']['f1-score'],2))\n",
    "\n",
    "#Gaussian NB\n",
    "print('\\n\\nGaussian NB')\n",
    "gnb_model_sm = GaussianNB()\n",
    "gnb_model_sm.fit(x_res, y_res)\n",
    "y_pred_train_gnb_sm = gnb_model_sm.predict(x_res)\n",
    "y_pred_test_gnb_sm  = gnb_model_sm.predict(x_test)\n",
    "\n",
    "print(\"Training Accuracy = \",np.round(accuracy_score(y_res, y_pred_train_gnb_sm),2))\n",
    "print(\"Testing Accuracy = \",np.round(accuracy_score(y_test,y_pred_test_gnb_sm),2))\n",
    "print(np.round(confusion_matrix(y_test,y_pred_test_gnb_sm),2))\n",
    "print(classification_report(y_test,y_pred_test_gnb_sm))\n",
    "print(\"Training ROC AUC score= \",np.round(roc_auc_score(y_res, y_pred_train_gnb_sm),2))\n",
    "print(\"Testing ROC AUC score= \",np.round(roc_auc_score(y_test,y_pred_test_gnb_sm),2))\n",
    "\n",
    "cl_report_gnb_sm = classification_report(y_test,y_pred_test_gnb_sm, output_dict=True)\n",
    "tr_acc_list.append(np.round(accuracy_score(y_res, y_pred_train_gnb_sm),2)) \n",
    "ts_acc_list.append(np.round(accuracy_score(y_test,y_pred_test_gnb_sm),2)) \n",
    "ts_f1_list.append(np.round(cl_report_gnb_sm['1']['f1-score'],2))\n",
    "\n",
    "#Decision Tree\n",
    "print('\\nDecision Tree')\n",
    "dt_model_sm = DecisionTreeClassifier(random_state= 131)\n",
    "dt_model_sm.fit(x_res,y_res)\n",
    "y_pred_train_dt_sm = dt_model_sm.predict(x_res)\n",
    "y_pred_test_dt_sm  = dt_model_sm.predict(x_test)\n",
    "\n",
    "print(\"Training Accuracy = \",np.round(accuracy_score(y_res, y_pred_train_dt_sm),2))\n",
    "print(\"Testing Accuracy = \",np.round(accuracy_score(y_test,y_pred_test_dt_sm),2))\n",
    "print(np.round(confusion_matrix(y_test,y_pred_test_dt_sm),2))\n",
    "print(classification_report(y_test,y_pred_test_dt_sm))\n",
    "print(\"Training ROC AUC score= \",np.round(roc_auc_score(y_res, y_pred_train_dt_sm),2))\n",
    "print(\"Testing ROC AUC score= \",np.round(roc_auc_score(y_test,y_pred_test_dt_sm),2))\n",
    "\n",
    "cl_report_dt_sm = classification_report(y_test,y_pred_test_dt_sm, output_dict=True)\n",
    "tr_acc_list.append(np.round(accuracy_score(y_res, y_pred_train_dt_sm),2)) \n",
    "ts_acc_list.append(np.round(accuracy_score(y_test,y_pred_test_dt_sm),2)) \n",
    "ts_f1_list.append(np.round(cl_report_dt_sm['1']['f1-score'],2))\n",
    "\n",
    "# Random Forest\n",
    "print('\\nRandom Forest with SMOTE')\n",
    "rf_model_sm = RandomForestClassifier(n_estimators=100, max_depth= 5)\n",
    "rf_model_sm.fit(x_res,y_res)\n",
    "y_pred_train_rf_sm = rf_model_sm.predict(x_res)#x_train\n",
    "y_pred_test_rf_sm  = rf_model_sm.predict(x_test)\n",
    "\n",
    "print(\"Training Accuracy = \",np.round(accuracy_score(y_res, y_pred_train_rf_sm),2))#y_train\n",
    "print(\"Testing Accuracy = \",np.round(accuracy_score(y_test,y_pred_test_rf_sm),2))\n",
    "print(np.round(confusion_matrix(y_test,y_pred_test_rf_sm),2))\n",
    "print(classification_report(y_test,y_pred_test_rf_sm))\n",
    "print(\"Training ROC AUC score= \",np.round(roc_auc_score(y_res, y_pred_train_rf_sm),2))#y_train\n",
    "print(\"Testing ROC AUC score= \",np.round(roc_auc_score(y_test,y_pred_test_rf_sm),2))\n",
    "\n",
    "cl_report_rf_sm = classification_report(y_test,y_pred_test_rf_sm, output_dict=True)\n",
    "tr_acc_list.append(np.round(accuracy_score(y_res, y_pred_train_rf_sm),2)) \n",
    "ts_acc_list.append(np.round(accuracy_score(y_test,y_pred_test_rf_sm),2)) \n",
    "ts_f1_list.append(np.round(cl_report_rf_sm['1']['f1-score'],2))\n",
    "\n",
    "#xgboost classifier\n",
    "print('\\nXgboost with SMOTE')\n",
    "xgb_model_sm = XGBClassifier()\n",
    "xgb_model_sm.fit(x_res,y_res)\n",
    "y_pred_train_xgb_sm  = xgb_model_sm.predict(x_res)#x_train\n",
    "y_pred_test_xgb_sm   = xgb_model_sm.predict(x_test)\n",
    "\n",
    "print(\"Training Accuracy = \",np.round(accuracy_score(y_res, y_pred_train_xgb_sm),2))#y_train\n",
    "print(\"Testing Accuracy = \",np.round(accuracy_score(y_test,y_pred_test_xgb_sm),2))\n",
    "print(np.round(confusion_matrix(y_test,y_pred_test_xgb_sm),2))\n",
    "print(classification_report(y_test,y_pred_test_xgb_sm))\n",
    "print(\"Training ROC AUC score= \",np.round(roc_auc_score(y_res, y_pred_train_xgb_sm),2))#y_train\n",
    "print(\"Testing ROC AUC score= \",np.round(roc_auc_score(y_test,y_pred_test_xgb_sm),2))\n",
    "\n",
    "cl_report_xgb_sm = classification_report(y_test,y_pred_test_xgb_sm, output_dict=True)\n",
    "tr_acc_list.append(np.round(accuracy_score(y_res, y_pred_train_xgb_sm),2)) \n",
    "ts_acc_list.append(np.round(accuracy_score(y_test,y_pred_test_xgb_sm),2)) \n",
    "ts_f1_list.append(np.round(cl_report_xgb_sm['1']['f1-score'],2))\n",
    "\n",
    "#SVM\n",
    "print('\\n\\nSupport Vector Machine')\n",
    "svm_model = SVC()\n",
    "svm_model.fit(x_res,y_res)\n",
    "y_pred_train_svm_sm = svm_model.predict(x_res)\n",
    "y_pred_test_svm_sm  = svm_model.predict(x_test)\n",
    "\n",
    "print(\"Training Accuracy = \",np.round(accuracy_score(y_res, y_pred_train_svm_sm),2))#y_train\n",
    "print(\"Testing Accuracy = \",np.round(accuracy_score(y_test,y_pred_test_svm_sm),2))\n",
    "print(np.round(confusion_matrix(y_test,y_pred_test_svm_sm),2))\n",
    "print(classification_report(y_test,y_pred_test_svm_sm))\n",
    "print(\"Training ROC AUC score= \",np.round(roc_auc_score(y_res, y_pred_train_svm_sm),2))#y_train\n",
    "print(\"Testing ROC AUC score= \",np.round(roc_auc_score(y_test,y_pred_test_svm_sm),2))\n",
    "\n",
    "cl_report_svm_sm = classification_report(y_test,y_pred_test_svm_sm, output_dict=True)\n",
    "tr_acc_list.append(np.round(accuracy_score(y_res, y_pred_train_svm_sm),2)) \n",
    "ts_acc_list.append(np.round(accuracy_score(y_test,y_pred_test_svm_sm),2)) \n",
    "ts_f1_list.append(np.round(cl_report_svm_sm['1']['f1-score'],2))\n",
    "\n"
   ]
  },
  {
   "cell_type": "code",
   "execution_count": 37,
   "id": "68a5caac",
   "metadata": {},
   "outputs": [
    {
     "name": "stdout",
     "output_type": "stream",
     "text": [
      "\n",
      "\n",
      "Smote Score Table\n"
     ]
    },
    {
     "data": {
      "text/html": [
       "<div>\n",
       "<style scoped>\n",
       "    .dataframe tbody tr th:only-of-type {\n",
       "        vertical-align: middle;\n",
       "    }\n",
       "\n",
       "    .dataframe tbody tr th {\n",
       "        vertical-align: top;\n",
       "    }\n",
       "\n",
       "    .dataframe thead tr th {\n",
       "        text-align: left;\n",
       "    }\n",
       "</style>\n",
       "<table border=\"1\" class=\"dataframe\">\n",
       "  <thead>\n",
       "    <tr>\n",
       "      <th></th>\n",
       "      <th>Models</th>\n",
       "      <th>Accuracy_tr</th>\n",
       "      <th>Accuracy_ts</th>\n",
       "      <th>F1-score_1</th>\n",
       "    </tr>\n",
       "  </thead>\n",
       "  <tbody>\n",
       "    <tr>\n",
       "      <th>0</th>\n",
       "      <td>LR</td>\n",
       "      <td>0.80</td>\n",
       "      <td>0.84</td>\n",
       "      <td>0.43</td>\n",
       "    </tr>\n",
       "    <tr>\n",
       "      <th>1</th>\n",
       "      <td>NB</td>\n",
       "      <td>0.84</td>\n",
       "      <td>0.86</td>\n",
       "      <td>0.59</td>\n",
       "    </tr>\n",
       "    <tr>\n",
       "      <th>2</th>\n",
       "      <td>DT</td>\n",
       "      <td>1.00</td>\n",
       "      <td>0.94</td>\n",
       "      <td>0.82</td>\n",
       "    </tr>\n",
       "    <tr>\n",
       "      <th>3</th>\n",
       "      <td>RF</td>\n",
       "      <td>0.95</td>\n",
       "      <td>0.96</td>\n",
       "      <td>0.86</td>\n",
       "    </tr>\n",
       "    <tr>\n",
       "      <th>4</th>\n",
       "      <td>XGBoost</td>\n",
       "      <td>1.00</td>\n",
       "      <td>0.98</td>\n",
       "      <td>0.93</td>\n",
       "    </tr>\n",
       "    <tr>\n",
       "      <th>5</th>\n",
       "      <td>SVM</td>\n",
       "      <td>0.95</td>\n",
       "      <td>0.93</td>\n",
       "      <td>0.75</td>\n",
       "    </tr>\n",
       "  </tbody>\n",
       "</table>\n",
       "</div>"
      ],
      "text/plain": [
       "    Models Accuracy_tr Accuracy_ts F1-score_1\n",
       "0       LR        0.80        0.84       0.43\n",
       "1       NB        0.84        0.86       0.59\n",
       "2       DT        1.00        0.94       0.82\n",
       "3       RF        0.95        0.96       0.86\n",
       "4  XGBoost        1.00        0.98       0.93\n",
       "5      SVM        0.95        0.93       0.75"
      ]
     },
     "execution_count": 37,
     "metadata": {},
     "output_type": "execute_result"
    }
   ],
   "source": [
    "print('\\n\\nSmote Score Table')\n",
    "model_string =['LR', 'NB', 'DT','RF','XGBoost','SVM'] \n",
    "df_scaled_sm['Models'] = model_string\n",
    "df_scaled_sm['Accuracy_tr'] = tr_acc_list\n",
    "df_scaled_sm['Accuracy_ts'] = ts_acc_list\n",
    "df_scaled_sm['F1-score_1'] = ts_f1_list\n",
    "df_scaled_sm"
   ]
  },
  {
   "cell_type": "markdown",
   "id": "bf9da730",
   "metadata": {},
   "source": [
    "# F1 score for all models increased that is performing better with SMOTE"
   ]
  },
  {
   "cell_type": "markdown",
   "id": "e2dab8c8",
   "metadata": {},
   "source": [
    "# Hyperparameter tuning"
   ]
  },
  {
   "cell_type": "markdown",
   "id": "20212b30",
   "metadata": {},
   "source": [
    "For hyperparameter tuning, we need to split our training data again into a set for training and a set for testing the hyperparameters (often called validation set). It is a very common practice to use k-fold cross-validation for hyperparameter tuning. The training set is divided again into k equal-sized samples, 1 sample is used for testing and the remaining k-1 samples are used for training the model, repeating the process k times. Then, the k evaluation metrics (in this case the accuracy) are averaged to produce a single estimator.\n",
    "\n",
    "It is important to stress that the validation set is used for hyperparameter selection and not for evaluating the final performance of our model.\n",
    "\n",
    "There are multiple techniques to find the best hyperparameters for a model. The most popular methods are (1) grid search, (2) random search, and (3) bayesian optimization.\n",
    "\n",
    "We've used Random Search method for Hypermeter Tuning."
   ]
  },
  {
   "cell_type": "markdown",
   "id": "bc832c3c",
   "metadata": {},
   "source": [
    "# Model Optimization - GridSearchCV"
   ]
  },
  {
   "cell_type": "code",
   "execution_count": 38,
   "id": "8c06971f",
   "metadata": {},
   "outputs": [],
   "source": [
    "Accu_list_tr = []\n",
    "Accu_list_ts = []\n",
    "F1_churn_ts = []\n",
    "F1_nonchurn_ts = []\n",
    "df_final1 = pd.DataFrame(columns=['Models','TR_Accu','TS_Accu','TS_churn_f1_score','TS_nonchurn_f1_score'])"
   ]
  },
  {
   "cell_type": "code",
   "execution_count": 39,
   "id": "4c41d9c1",
   "metadata": {},
   "outputs": [
    {
     "name": "stdout",
     "output_type": "stream",
     "text": [
      "(3333, 18)\n",
      "(3333, 1)\n",
      "(2666, 18)\n",
      "(667, 18)\n",
      "(2666, 1)\n",
      "(667, 1)\n"
     ]
    },
    {
     "data": {
      "text/plain": [
       "array([[ 0.97787485, -0.61839626, -0.59175986, ..., -0.19483061,\n",
       "         0.84311087, -0.13996744],\n",
       "       [-0.20255123, -0.61839626, -0.59175986, ...,  0.61789834,\n",
       "         1.02887115,  0.74568906],\n",
       "       [-0.32812847, -0.61839626, -0.59175986, ...,  0.21153386,\n",
       "        -0.04588472, -0.37995178],\n",
       "       ...,\n",
       "       [ 0.40021953, -0.61839626, -0.59175986, ...,  1.83699177,\n",
       "         1.59942056,  0.18953487],\n",
       "       [ 0.27464229,  1.6170861 ,  0.5772914 , ..., -0.60119509,\n",
       "         0.06026401,  0.09715995],\n",
       "       [-0.10208944, -0.61839626, -0.59175986, ..., -1.00755957,\n",
       "         0.27256146,  0.37904632]])"
      ]
     },
     "execution_count": 39,
     "metadata": {},
     "output_type": "execute_result"
    }
   ],
   "source": [
    "X = df.iloc[:,:-1]\n",
    "print(X.shape)\n",
    "y = df[['churn']]\n",
    "print(y.shape)\n",
    "\n",
    "scaler = StandardScaler()\n",
    "x_scaled = scaler.fit_transform(X)\n",
    "\n",
    "x_train,x_test,y_train,y_test = train_test_split(x_scaled, y, test_size=0.2, random_state=30, stratify=y)\n",
    "print(x_train.shape)\n",
    "print(x_test.shape)\n",
    "print(y_train.shape)\n",
    "print(y_test.shape)\n",
    "x_train"
   ]
  },
  {
   "cell_type": "markdown",
   "id": "3e852a99",
   "metadata": {},
   "source": [
    "# GridsearchCV - SVM"
   ]
  },
  {
   "cell_type": "code",
   "execution_count": 40,
   "id": "5c45adbe",
   "metadata": {},
   "outputs": [
    {
     "ename": "NameError",
     "evalue": "name 'model' is not defined",
     "output_type": "error",
     "traceback": [
      "\u001b[1;31m---------------------------------------------------------------------------\u001b[0m",
      "\u001b[1;31mNameError\u001b[0m                                 Traceback (most recent call last)",
      "Input \u001b[1;32mIn [40]\u001b[0m, in \u001b[0;36m<cell line: 4>\u001b[1;34m()\u001b[0m\n\u001b[0;32m      1\u001b[0m \u001b[38;5;28;01mfrom\u001b[39;00m \u001b[38;5;21;01msklearn\u001b[39;00m\u001b[38;5;21;01m.\u001b[39;00m\u001b[38;5;21;01mmodel_selection\u001b[39;00m \u001b[38;5;28;01mimport\u001b[39;00m KFold,cross_val_score\n\u001b[0;32m      3\u001b[0m fold \u001b[38;5;241m=\u001b[39m KFold(n_splits\u001b[38;5;241m=\u001b[39m\u001b[38;5;241m5\u001b[39m)\n\u001b[1;32m----> 4\u001b[0m results \u001b[38;5;241m=\u001b[39m cross_val_score(\u001b[43mmodel\u001b[49m,x,y,cv\u001b[38;5;241m=\u001b[39mfold)\n\u001b[0;32m      5\u001b[0m results\u001b[38;5;241m.\u001b[39mmin(), results\u001b[38;5;241m.\u001b[39mmax()\n",
      "\u001b[1;31mNameError\u001b[0m: name 'model' is not defined"
     ]
    }
   ],
   "source": [
    "from sklearn.model_selection import KFold,cross_val_score\n",
    "\n",
    "fold = KFold(n_splits=5)\n",
    "results = cross_val_score(model,x,y,cv=fold)\n",
    "results.min(), results.max()\n"
   ]
  },
  {
   "cell_type": "code",
   "execution_count": null,
   "id": "7e60f61d",
   "metadata": {},
   "outputs": [],
   "source": [
    "results.std()"
   ]
  },
  {
   "cell_type": "code",
   "execution_count": null,
   "id": "a2ac71c6",
   "metadata": {},
   "outputs": [],
   "source": [
    "results.mean()"
   ]
  },
  {
   "cell_type": "code",
   "execution_count": null,
   "id": "5272fdf7",
   "metadata": {},
   "outputs": [],
   "source": [
    "from sklearn.model_selection import GridSearchCV,KFold\n",
    "\n",
    "param = {\"C\":[50,80,100,120,150],'kernel':[\"rbf\",\"sigmoid\",\"poly\"]}\n",
    "\n",
    "svm_model = SVC(random_state=42)\n",
    "svm_model_tweaked = GridSearchCV(svm_model,param_grid=param,cv=KFold(n_splits=5))\n",
    "svm_model_tweaked.fit(x_train,y_train)\n",
    "print(svm_model_tweaked.best_params_)\n",
    "print(svm_model_tweaked.best_score_)"
   ]
  },
  {
   "cell_type": "code",
   "execution_count": null,
   "id": "6c8d362f",
   "metadata": {},
   "outputs": [],
   "source": [
    "# training the standardized model with gridsearch params\n",
    "svm_model_gsc = SVC(kernel=\"rbf\", C=150)\n",
    "svm_model_gsc.fit(x_train,y_train)\n",
    "y_pred_train_svm_gsc = svm_model_gsc.predict(x_train)\n",
    "y_pred_test_svm_gsc  = svm_model_gsc.predict(x_test)\n",
    "\n",
    "# evaluation metrics\n",
    "print(\"Training Accuracy = \",accuracy_score(y_train,y_pred_train_svm_gsc))\n",
    "print(\"Testing Accuracy  = \",accuracy_score(y_test,y_pred_test_svm_gsc)) \n",
    "print(\"Confusion Matrix = \", confusion_matrix(y_test,y_pred_test_svm_gsc))\n",
    "print(classification_report(y_test,y_pred_test_svm_gsc))\n",
    "\n",
    "sns.heatmap(confusion_matrix(y_test,y_pred_test_svm_gsc), annot=True, fmt='.2f', cmap='YlGnBu')\n",
    "plt.xlabel('Prediction')\n",
    "plt.ylabel('Actual')\n",
    "\n",
    "cl_report_svm_gsc = classification_report(y_test,y_pred_test_svm_gsc, output_dict=True)\n",
    "Accu_list_tr.append(np.round(accuracy_score(y_train, y_pred_train_svm_gsc),2)) \n",
    "Accu_list_ts.append(np.round(accuracy_score(y_test,y_pred_test_svm_gsc),2)) \n",
    "F1_churn_ts.append(np.round(cl_report_svm_gsc['1']['f1-score'],2))\n",
    "F1_nonchurn_ts.append(np.round(cl_report_svm_gsc['0']['f1-score'],2))\n",
    "\n",
    "#print(Accu_list_tr)\n",
    "#print(Accu_list_ts)\n",
    "#print(F1_list_ts)"
   ]
  },
  {
   "cell_type": "code",
   "execution_count": null,
   "id": "28eb6b81",
   "metadata": {},
   "outputs": [],
   "source": [
    "# k-fold cross validation for SVM\n",
    "kfold = StratifiedKFold(n_splits=10, shuffle=True)\n",
    "\n",
    "tr_results_kfold_svm = cross_val_score(svm_model_gsc, x_train, y_train, cv=kfold)\n",
    "print(\"Training Accuracy\\n\", tr_results_kfold_svm)\n",
    "Accu_kf_tr = [np.round(item,2) for item in tr_results_kfold_svm]\n",
    "\n",
    "ts_results_kfold_svm = cross_val_score(svm_model_gsc, x_test, y_test, cv=kfold)\n",
    "print(\"\\nTesting Accuracy\\n\",ts_results_kfold_svm)\n",
    "Accu_kf_ts = [np.round(item,2) for item in ts_results_kfold_svm]\n",
    "\n",
    "ts_results_kfold_svm_f1 = cross_val_score(svm_model_gsc, x_test, y_test, cv=kfold, scoring='f1')\n",
    "print(\"\\nTest F1 score\\n\",ts_results_kfold_svm_f1)\n",
    "f1_kf_ts = Accu_kf_ts = [np.round(item,2) for item in ts_results_kfold_svm_f1]\n",
    "\n",
    "df_kfold_svm = pd.DataFrame()\n",
    "df_kfold_svm = pd.DataFrame([Accu_kf_tr,Accu_kf_ts,f1_kf_ts], columns=['1','2','3','4','5','6','7','8','9','10'])\n",
    "df_kfold_svm.insert(0,'SVM', ['Trainig Accuracy','Testing Accuracy','Test_overall_F1_score'])\n",
    "df_kfold_svm"
   ]
  },
  {
   "cell_type": "markdown",
   "id": "b6439504",
   "metadata": {},
   "source": [
    "# GridsearchCV - Random Forest"
   ]
  },
  {
   "cell_type": "code",
   "execution_count": null,
   "id": "09d81bbd",
   "metadata": {},
   "outputs": [],
   "source": [
    "rf_model = RandomForestClassifier(random_state=42)\n",
    "rf_model_tweaked = GridSearchCV(estimator= rf_model, param_grid = { 'criterion' : [\"gini\", \"entropy\"],\n",
    "                                                                   'max_depth' :[2,3,4,5,6,7],\n",
    "                                                                    'n_estimators':[50,80,100,120,150],\n",
    "                                                                    'min_samples_split' : [2,3,4,5]                                                                     \n",
    "                                                                   })\n",
    "rf_model_tweaked.fit(x_train,y_train)\n",
    "print(rf_model_tweaked.best_params_)\n",
    "print(rf_model_tweaked.best_score_)"
   ]
  },
  {
   "cell_type": "code",
   "execution_count": null,
   "id": "64a6a166",
   "metadata": {},
   "outputs": [],
   "source": [
    "# training the standardized model with gridsearch params\n",
    "rf_model_gsc = RandomForestClassifier(n_estimators=150, max_depth= 7, criterion='gini', min_samples_split=5)\n",
    "rf_model_gsc.fit(x_train,y_train)\n",
    "y_pred_train_rf_gsc = rf_model_gsc.predict(x_train)\n",
    "y_pred_test_rf_gsc  = rf_model_gsc.predict(x_test)\n",
    "\n",
    "# evaluation metrics\n",
    "print(\"Training Accuracy = \",accuracy_score(y_train,y_pred_train_rf_gsc))\n",
    "print(\"Testing Accuracy  = \",accuracy_score(y_test,y_pred_test_rf_gsc)) \n",
    "print(\"Confusion Matrix = \", confusion_matrix(y_test,y_pred_test_rf_gsc))\n",
    "print(classification_report(y_test,y_pred_test_rf_gsc))\n",
    "\n",
    "sns.heatmap(confusion_matrix(y_test,y_pred_test_rf_gsc), annot=True, fmt='.2f', cmap='YlGnBu')\n",
    "plt.xlabel('Prediction')\n",
    "plt.ylabel('Actual')\n",
    "\n",
    "cl_report_rf_gsc = classification_report(y_test,y_pred_test_rf_gsc, output_dict=True)\n",
    "Accu_list_tr.append(np.round(accuracy_score(y_train, y_pred_train_rf_gsc),2)) \n",
    "Accu_list_ts.append(np.round(accuracy_score(y_test,y_pred_test_rf_gsc),2)) \n",
    "F1_churn_ts.append(np.round(cl_report_rf_gsc['1']['f1-score'],2))\n",
    "F1_nonchurn_ts.append(np.round(cl_report_rf_gsc['0']['f1-score'],2))\n",
    "\n",
    "#print(Accu_list_tr)\n",
    "#print(Accu_list_ts)\n",
    "#print(F1_list_ts)"
   ]
  },
  {
   "cell_type": "code",
   "execution_count": null,
   "id": "733d2cec",
   "metadata": {},
   "outputs": [],
   "source": [
    "# k-fold cross validation for random forest\n",
    "kfold = StratifiedKFold(n_splits=10, shuffle=True)\n",
    "\n",
    "tr_results_kfold_rf = cross_val_score(rf_model_gsc, x_train, y_train, cv=kfold)\n",
    "print(\"Training Accuracy\\n\", tr_results_kfold_rf)\n",
    "Accu_kf_tr = [np.round(item,2) for item in tr_results_kfold_rf]\n",
    "\n",
    "ts_results_kfold_rf = cross_val_score(rf_model_gsc, x_test, y_test, cv=kfold)\n",
    "print(\"\\nTesting Accuracy\\n\",ts_results_kfold_rf)\n",
    "Accu_kf_ts = [np.round(item,2) for item in ts_results_kfold_rf]\n",
    "\n",
    "ts_results_kfold_rf_f1 = cross_val_score(rf_model_gsc, x_test, y_test, cv=kfold, scoring='f1')\n",
    "print(\"\\nTest F1 score\\n\",ts_results_kfold_rf_f1)\n",
    "f1_kf_ts = Accu_kf_ts = [np.round(item,2) for item in ts_results_kfold_rf_f1]\n",
    "\n",
    "df_kfold_rf = pd.DataFrame()\n",
    "df_kfold_rf = pd.DataFrame([Accu_kf_tr,Accu_kf_ts,f1_kf_ts], columns=['1','2','3','4','5','6','7','8','9','10'])\n",
    "df_kfold_rf.insert(0,'Random_Forest', ['Trainig Accuracy','Testing Accuracy','Test_overall_F1_score'])\n",
    "df_kfold_rf"
   ]
  },
  {
   "cell_type": "markdown",
   "id": "75caf6a2",
   "metadata": {},
   "source": [
    "# GridSearchCV - XGBoost"
   ]
  },
  {
   "cell_type": "code",
   "execution_count": null,
   "id": "268085d5",
   "metadata": {},
   "outputs": [],
   "source": [
    "#training the Smote model with Gridsearch CV for XGBoost\n",
    "parameters = {'nthread':[4], #when use hyperthread, xgboost may become slower\n",
    "              'learning_rate': [0.05,0.03], # `eta` value\n",
    "              'max_depth': [3,4,5,6,7,8],\n",
    "              'n_estimators': [10, 50, 100, 150], #number of trees, change it to 100 for better results\n",
    "             }\n",
    "\n",
    "xgb_model = XGBClassifier()\n",
    "xgb_model_tweaked = GridSearchCV(estimator= xgb_model, param_grid= parameters)\n",
    "xgb_model_tweaked.fit(x_train,y_train)\n",
    "print(xgb_model_tweaked.best_params_)\n",
    "print(xgb_model_tweaked.best_score_)"
   ]
  },
  {
   "cell_type": "code",
   "execution_count": null,
   "id": "30cf6fb2",
   "metadata": {},
   "outputs": [],
   "source": [
    "# training the standardized model with gridsearch params\n",
    "xgb_model_gsc = XGBClassifier(n_estimators=100, max_depth= 3, learning_rate=0.05,  nthread = 4)\n",
    "xgb_model_gsc.fit(x_train,y_train)\n",
    "y_pred_train_xgb_gsc = xgb_model_gsc.predict(x_train)\n",
    "y_pred_test_xgb_gsc  = xgb_model_gsc.predict(x_test)\n",
    "\n",
    "# evaluation metrics\n",
    "print(\"Training Accuracy = \",accuracy_score(y_train,y_pred_train_xgb_gsc))\n",
    "print(\"Testing Accuracy  = \",accuracy_score(y_test,y_pred_test_xgb_gsc)) \n",
    "print(\"Confusion Matrix = \", confusion_matrix(y_test,y_pred_test_xgb_gsc))\n",
    "print(classification_report(y_test,y_pred_test_xgb_gsc))\n",
    "\n",
    "sns.heatmap(confusion_matrix(y_test,y_pred_test_xgb_gsc), annot=True, fmt='.2f', cmap='YlGnBu')\n",
    "plt.xlabel('Prediction')\n",
    "plt.ylabel('Actual')\n",
    "\n",
    "cl_report_xgb_gsc = classification_report(y_test,y_pred_test_xgb_gsc, output_dict=True)\n",
    "Accu_list_tr.append(np.round(accuracy_score(y_train, y_pred_train_xgb_gsc),2)) \n",
    "Accu_list_ts.append(np.round(accuracy_score(y_test,y_pred_test_xgb_gsc),2)) \n",
    "F1_churn_ts.append(np.round(cl_report_xgb_gsc['1']['f1-score'],2))\n",
    "F1_nonchurn_ts.append(np.round(cl_report_xgb_gsc['0']['f1-score'],2))\n"
   ]
  },
  {
   "cell_type": "code",
   "execution_count": null,
   "id": "7744e667",
   "metadata": {},
   "outputs": [],
   "source": [
    "# k-fold cross validation for XGBoost\n",
    "kfold = StratifiedKFold(n_splits=10, shuffle=True)\n",
    "\n",
    "tr_results_kfold_xgb = cross_val_score(xgb_model_gsc, x_train, y_train, cv=kfold)\n",
    "print(\"\\n\\nTraining Accuracy\\n \",tr_results_kfold_xgb,\"\\n\\n\")\n",
    "Accu_kf_tr_xgb = [np.round(item,2) for item in tr_results_kfold_xgb]\n",
    "\n",
    "ts_results_kfold_xgb = cross_val_score(xgb_model_gsc, x_test, y_test, cv=kfold)\n",
    "print(\"\\n\\nTesting Accuracy\\n \",ts_results_kfold_rf)\n",
    "Accu_kf_ts_xgb = [np.round(item,2) for item in ts_results_kfold_xgb]\n",
    "\n",
    "ts_results_kfold_xgb_f1 = cross_val_score(xgb_model_gsc, x_test, y_test, cv=kfold, scoring='f1')\n",
    "print(\"\\nTest F1 score\\n\",ts_results_kfold_xgb_f1)\n",
    "f1_kf_ts_xgb = [np.round(item,2) for item in ts_results_kfold_xgb_f1]\n",
    "\n",
    "\n",
    "df_kfold_xgb = pd.DataFrame()\n",
    "df_kfold_xgb = pd.DataFrame([Accu_kf_tr_xgb,Accu_kf_ts_xgb,f1_kf_ts_xgb], columns=['1','2','3','4','5','6','7','8','9','10'])\n",
    "df_kfold_xgb.insert(0,'XGBoost', ['Trainig Accuracy','Testing Accuracy','Test_overall_F1_score'])\n",
    "df_kfold_xgb"
   ]
  },
  {
   "cell_type": "markdown",
   "id": "347b7d84",
   "metadata": {},
   "source": [
    "# GridSearchCV - Decision Tree"
   ]
  },
  {
   "cell_type": "code",
   "execution_count": null,
   "id": "9c838b7f",
   "metadata": {},
   "outputs": [],
   "source": [
    "dt_model = DecisionTreeClassifier(random_state=52)\n",
    "dt_model_tweaked = GridSearchCV(estimator= dt_model, param_grid = { 'criterion' : [\"gini\", \"entropy\"],\n",
    "                                                                   'max_depth' :[2,3,4,5,6,7],\n",
    "                                                                    'min_samples_split' : [2,3,4,5]                                                                                                   \n",
    "                                                                   })\n",
    "dt_model_tweaked.fit(x_train,y_train)\n",
    "print(dt_model_tweaked.best_params_)\n",
    "print(dt_model_tweaked.best_score_)"
   ]
  },
  {
   "cell_type": "code",
   "execution_count": null,
   "id": "e93bd216",
   "metadata": {},
   "outputs": [],
   "source": [
    "#training Decision Tree with Gridsearch CV best params\n",
    "dt_model_gsc = DecisionTreeClassifier(max_depth= 5, criterion ='gini', min_samples_split=2, random_state=63)\n",
    "dt_model_gsc.fit(x_train,y_train)\n",
    "y_pred_train_dt_gsc = dt_model_gsc.predict(x_train)\n",
    "y_pred_test_dt_gsc  = dt_model_gsc.predict(x_test)\n",
    "\n",
    "# evaluation metrics\n",
    "print(\"Training Accuracy = \",accuracy_score(y_train,y_pred_train_dt_gsc))\n",
    "print(\"Testing Accuracy  = \",accuracy_score(y_test,y_pred_test_dt_gsc)) \n",
    "print(\"Confusion Matrix = \", confusion_matrix(y_test,y_pred_test_dt_gsc))\n",
    "print(classification_report(y_test,y_pred_test_dt_gsc))\n",
    "\n",
    "sns.heatmap(confusion_matrix(y_test,y_pred_test_dt_gsc), annot=True, fmt='.2f', cmap='YlGnBu')\n",
    "plt.xlabel('Prediction')\n",
    "plt.ylabel('Actual')\n",
    "\n",
    "cl_report_dt_gsc = classification_report(y_test,y_pred_test_dt_gsc, output_dict=True)\n",
    "Accu_list_tr.append(np.round(accuracy_score(y_train, y_pred_train_dt_gsc),2)) \n",
    "Accu_list_ts.append(np.round(accuracy_score(y_test, y_pred_test_dt_gsc),2)) \n",
    "F1_churn_ts.append(np.round(cl_report_dt_gsc['1']['f1-score'],2))\n",
    "F1_nonchurn_ts.append(np.round(cl_report_dt_gsc['0']['f1-score'],2))"
   ]
  },
  {
   "cell_type": "code",
   "execution_count": null,
   "id": "ce12bdfa",
   "metadata": {},
   "outputs": [],
   "source": [
    "# k-fold cross validation for Decision Tree\n",
    "kfold = StratifiedKFold(n_splits=10, shuffle=True)\n",
    "\n",
    "tr_results_kfold_dt = cross_val_score(dt_model_gsc, x_train, y_train, cv=kfold)\n",
    "print(\"Training Accuracy\\n\", tr_results_kfold_dt)\n",
    "Accu_kf_tr_dt = [np.round(item,2) for item in tr_results_kfold_dt]\n",
    "\n",
    "ts_results_kfold_dt = cross_val_score(dt_model_gsc, x_test, y_test, cv=kfold)\n",
    "print(\"\\nTesting Accuracy\\n\",ts_results_kfold_rf)\n",
    "Accu_kf_ts_dt = [np.round(item,2) for item in ts_results_kfold_dt] \n",
    "\n",
    "ts_results_kfold_dt_f1 = cross_val_score(dt_model_gsc, x_test, y_test, cv=kfold, scoring='f1')\n",
    "print(\"\\nTest F1 score\\n\",ts_results_kfold_dt_f1)\n",
    "f1_kf_ts_dt = [np.round(item,2) for item in ts_results_kfold_dt_f1] \n",
    "\n",
    "df_kfold_dt = pd.DataFrame()\n",
    "df_kfold_dt = pd.DataFrame([Accu_kf_tr_dt,Accu_kf_ts_dt,f1_kf_ts_dt], columns=['1','2','3','4','5','6','7','8','9','10'])\n",
    "df_kfold_dt.insert(0,'Decision Tree', ['Trainig Accuracy','Testing Accuracy','Test_overall_F1_score'])\n",
    "df_kfold_dt"
   ]
  },
  {
   "cell_type": "markdown",
   "id": "1d8f3c8d",
   "metadata": {},
   "source": [
    "# Inferences"
   ]
  },
  {
   "cell_type": "code",
   "execution_count": null,
   "id": "05c64aef",
   "metadata": {},
   "outputs": [],
   "source": [
    "print('\\n\\nGridsearchCV Score Table')\n",
    "\n",
    "model_string =['SVM','RF','XGBoost','DT'] \n",
    "\n",
    "#print(Accu_list_tr)\n",
    "\n",
    "df_final1['Models'] = model_string\n",
    "df_final1['TR_Accu'] = Accu_list_tr\n",
    "df_final1['TS_Accu']  = Accu_list_ts\n",
    "df_final1['TS_churn_f1_score']   = F1_churn_ts\n",
    "df_final1['TS_nonchurn_f1_score']   = F1_nonchurn_ts\n",
    "df_final1"
   ]
  },
  {
   "cell_type": "markdown",
   "id": "ffdecdbd",
   "metadata": {},
   "source": [
    "As shown above, 818 observations of the testing data were correctly classified by the model (725 true negatives and 93 true positives). On the contrary, we can observe 16 misclassifications (0 false positives and 16 false negatives)."
   ]
  },
  {
   "cell_type": "markdown",
   "id": "85fd6dcf",
   "metadata": {},
   "source": [
    "As we can observe, hyperparameter tuning has barely increased the accuracy of the model."
   ]
  },
  {
   "cell_type": "code",
   "execution_count": null,
   "id": "917945cb",
   "metadata": {},
   "outputs": [],
   "source": [
    "df"
   ]
  },
  {
   "cell_type": "code",
   "execution_count": null,
   "id": "205cc4c7",
   "metadata": {},
   "outputs": [],
   "source": [
    "df.columns"
   ]
  },
  {
   "cell_type": "markdown",
   "id": "bdd117fb",
   "metadata": {},
   "source": [
    "# Conclusions"
   ]
  },
  {
   "cell_type": "markdown",
   "id": "962e6cb3",
   "metadata": {},
   "source": [
    "\n",
    "We started by cleaning the data and analyzing it with visualization. Then, to be able to build a machine learning model, we transformed the categorical data into numeric variables (feature engineering). After transforming the data, we tried 6 different machine learning algorithms using default parameters. Finally, we tuned the hyperparameters of the Gradient Boosting Classifier (best performance model) for model optimization, obtaining an accuracy of nearly 98.3%."
   ]
  },
  {
   "cell_type": "markdown",
   "id": "a20137ab",
   "metadata": {},
   "source": [
    "# Pickle File"
   ]
  },
  {
   "cell_type": "code",
   "execution_count": null,
   "id": "35187c08",
   "metadata": {},
   "outputs": [],
   "source": [
    "import pickle"
   ]
  },
  {
   "cell_type": "code",
   "execution_count": null,
   "id": "3b4d0ee0",
   "metadata": {},
   "outputs": [],
   "source": [
    "# creating a pickle file\n",
    "filename = 'telecom_churn_trained_model.sav'\n",
    "pickle.dump(xgb_model_gsc,open(filename, 'wb'))"
   ]
  },
  {
   "cell_type": "code",
   "execution_count": null,
   "id": "d24e88f5",
   "metadata": {},
   "outputs": [],
   "source": [
    "# loading the saved model \n",
    "loaded_model = pickle.load(open('telecom_churn_trained_model.sav','rb'))"
   ]
  },
  {
   "cell_type": "code",
   "execution_count": null,
   "id": "e6e26a01",
   "metadata": {},
   "outputs": [],
   "source": []
  }
 ],
 "metadata": {
  "kernelspec": {
   "display_name": "Python 3 (ipykernel)",
   "language": "python",
   "name": "python3"
  },
  "language_info": {
   "codemirror_mode": {
    "name": "ipython",
    "version": 3
   },
   "file_extension": ".py",
   "mimetype": "text/x-python",
   "name": "python",
   "nbconvert_exporter": "python",
   "pygments_lexer": "ipython3",
   "version": "3.9.13"
  }
 },
 "nbformat": 4,
 "nbformat_minor": 5
}
